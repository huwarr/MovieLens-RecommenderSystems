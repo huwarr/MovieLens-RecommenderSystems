{
 "cells": [
  {
   "cell_type": "code",
   "execution_count": null,
   "id": "50f2004c",
   "metadata": {},
   "outputs": [],
   "source": [
    "import pandas as pd\n",
    "import scipy.sparse as sparse\n",
    "import numpy as np\n",
    "from sklearn.model_selection import train_test_split\n",
    "from tqdm import tqdm\n",
    "from lightfm import LightFM\n",
    "from lightfm.data import Dataset\n",
    "\n",
    "from nltk.tokenize import WordPunctTokenizer\n",
    "from gensim.models import Word2Vec\n",
    "\n",
    "import matplotlib.pyplot as plt\n",
    "import seaborn as sns\n",
    "%config InlineBackend.figure_format = 'retina'\n",
    "sns.set_style('darkgrid')\n",
    "\n",
    "np.random.seed(42)"
   ]
  },
  {
   "cell_type": "markdown",
   "id": "2f96afb5",
   "metadata": {},
   "source": [
    "## Коллаборативный подход"
   ]
  },
  {
   "cell_type": "markdown",
   "id": "07cabd4c",
   "metadata": {},
   "source": [
    "### Загрузка данных"
   ]
  },
  {
   "cell_type": "code",
   "execution_count": 2,
   "id": "ffd68f86",
   "metadata": {},
   "outputs": [],
   "source": [
    "%mkdir data"
   ]
  },
  {
   "cell_type": "code",
   "execution_count": 3,
   "id": "a7b71b2e",
   "metadata": {},
   "outputs": [],
   "source": [
    "%cd data"
   ]
  },
  {
   "cell_type": "code",
   "execution_count": 4,
   "id": "1d0d9ae8",
   "metadata": {},
   "outputs": [],
   "source": [
    "!gdown --folder https://drive.google.com/drive/folders/1gBBoOUD7fWmnyoLhWrC3t33yt6df32m3"
   ]
  },
  {
   "cell_type": "code",
   "execution_count": 5,
   "id": "489447cc",
   "metadata": {},
   "outputs": [],
   "source": [
    "%cd .."
   ]
  },
  {
   "cell_type": "code",
   "execution_count": 6,
   "id": "5e04bb38",
   "metadata": {},
   "outputs": [
    {
     "data": {
      "text/html": [
       "<div>\n",
       "<style scoped>\n",
       "    .dataframe tbody tr th:only-of-type {\n",
       "        vertical-align: middle;\n",
       "    }\n",
       "\n",
       "    .dataframe tbody tr th {\n",
       "        vertical-align: top;\n",
       "    }\n",
       "\n",
       "    .dataframe thead th {\n",
       "        text-align: right;\n",
       "    }\n",
       "</style>\n",
       "<table border=\"1\" class=\"dataframe\">\n",
       "  <thead>\n",
       "    <tr style=\"text-align: right;\">\n",
       "      <th></th>\n",
       "      <th>userId</th>\n",
       "      <th>movieId</th>\n",
       "      <th>rating</th>\n",
       "      <th>timestamp</th>\n",
       "    </tr>\n",
       "  </thead>\n",
       "  <tbody>\n",
       "    <tr>\n",
       "      <th>17679788</th>\n",
       "      <td>122270</td>\n",
       "      <td>8360</td>\n",
       "      <td>3.5</td>\n",
       "      <td>2012-04-22 01:07:04</td>\n",
       "    </tr>\n",
       "    <tr>\n",
       "      <th>7106385</th>\n",
       "      <td>49018</td>\n",
       "      <td>32</td>\n",
       "      <td>2.0</td>\n",
       "      <td>2001-09-11 07:50:36</td>\n",
       "    </tr>\n",
       "    <tr>\n",
       "      <th>12970708</th>\n",
       "      <td>89527</td>\n",
       "      <td>109374</td>\n",
       "      <td>3.5</td>\n",
       "      <td>2015-01-06 09:26:40</td>\n",
       "    </tr>\n",
       "  </tbody>\n",
       "</table>\n",
       "</div>"
      ],
      "text/plain": [
       "          userId  movieId  rating            timestamp\n",
       "17679788  122270     8360     3.5  2012-04-22 01:07:04\n",
       "7106385    49018       32     2.0  2001-09-11 07:50:36\n",
       "12970708   89527   109374     3.5  2015-01-06 09:26:40"
      ]
     },
     "execution_count": 6,
     "metadata": {},
     "output_type": "execute_result"
    }
   ],
   "source": [
    "raw = pd.read_csv('data/rating.csv')\n",
    "raw.sample(3)"
   ]
  },
  {
   "cell_type": "markdown",
   "id": "ad360dd5",
   "metadata": {},
   "source": [
    "### EDA"
   ]
  },
  {
   "cell_type": "markdown",
   "id": "89251996",
   "metadata": {},
   "source": [
    "Для начала удалим не нужную в данной задаче колонку - `timestamp`."
   ]
  },
  {
   "cell_type": "code",
   "execution_count": 7,
   "id": "12e74be8",
   "metadata": {},
   "outputs": [],
   "source": [
    "raw = raw.drop(columns=['timestamp'])"
   ]
  },
  {
   "cell_type": "markdown",
   "id": "a9c8abdc",
   "metadata": {},
   "source": [
    "Проверим, что тип данных уже такой, какой нужно (то есть числовые данные имеют числовой тип):"
   ]
  },
  {
   "cell_type": "code",
   "execution_count": 8,
   "id": "ba3d67b5",
   "metadata": {},
   "outputs": [
    {
     "data": {
      "text/plain": [
       "userId       int64\n",
       "movieId      int64\n",
       "rating     float64\n",
       "dtype: object"
      ]
     },
     "execution_count": 8,
     "metadata": {},
     "output_type": "execute_result"
    }
   ],
   "source": [
    "raw.dtypes"
   ]
  },
  {
   "cell_type": "markdown",
   "id": "3e87d785",
   "metadata": {},
   "source": [
    "Проверим, есть ли в данных пропущенные значения:"
   ]
  },
  {
   "cell_type": "code",
   "execution_count": 9,
   "id": "d4c62986",
   "metadata": {},
   "outputs": [
    {
     "name": "stdout",
     "output_type": "stream",
     "text": [
      "В данных нет пропусков\n"
     ]
    }
   ],
   "source": [
    "is_nan = raw.isna().any().any()\n",
    "if is_nan:\n",
    "    print('В данных есть пропуски')\n",
    "else:\n",
    "    print('В данных нет пропусков')"
   ]
  },
  {
   "cell_type": "markdown",
   "id": "182ce7ef",
   "metadata": {},
   "source": [
    "**Обработка userId и movieId**\n",
    "\n",
    "Заметим, что есть фильмы, которые вообще не представлены в наших данных:"
   ]
  },
  {
   "cell_type": "code",
   "execution_count": 10,
   "id": "a7afbcc2",
   "metadata": {},
   "outputs": [
    {
     "data": {
      "text/plain": [
       "(131262, 26744)"
      ]
     },
     "execution_count": 10,
     "metadata": {},
     "output_type": "execute_result"
    }
   ],
   "source": [
    "raw.movieId.max(), raw.movieId.nunique()"
   ]
  },
  {
   "cell_type": "markdown",
   "id": "3404c5b7",
   "metadata": {},
   "source": [
    "Значит, имеет смысл перенумеровать `movieId` так, чтобы не было пропущенных индексов. Тогда максимальное значение в этой колонке станет меньше - так нам будет проще получить в матрице оценок пользователь-фильм и в матрице скрытых признаков пользователей размерность меньше."
   ]
  },
  {
   "cell_type": "code",
   "execution_count": 11,
   "id": "8f3584b1",
   "metadata": {},
   "outputs": [],
   "source": [
    "# сохраним реальный максимум movieId на будущее\n",
    "MOVIE_MAX = raw.movieId.max()\n",
    "# перенумеруем\n",
    "# мотивация использования value_counts приведена ниже\n",
    "sorted_movies = raw.movieId.value_counts().index\n",
    "new_movies = {movie:i for i, movie in enumerate(sorted_movies)}\n",
    "raw.movieId = raw.movieId.map(new_movies)"
   ]
  },
  {
   "cell_type": "markdown",
   "id": "5e19633f",
   "metadata": {},
   "source": [
    "Давайте так же уменьшим количество используемых данных. Идея в следующем: пусть у нас есть пользователи, которые оценили мало фильмов. Матрица оценок пользователь-фильм для этих пользователей будет разреженной. Допустим, мы используем коллаборативный подход, модель со скрытыми признаками. Чтобы добиться большого количества нулевых предсказаний для конкретного пользователя, его вектор скрытых признаков должен быть близок к нулевому. Но в таком случае, в принципе для любого фильма предсказание будет около нуля.\n",
    "\n",
    "То же самое относится к фильмам, которые мало кто оценил. Предсказания пользователей для таких фильмов будут около нуля, а значит, может так получиться, что они вообще не будут рекомендоваться."
   ]
  },
  {
   "cell_type": "markdown",
   "id": "d40f116d",
   "metadata": {},
   "source": [
    "Давайте возьмем таких пользователей, которые оставили хотя бы 1000 оценок, и такие фильмы, которые оценили хотя бы 1000 пользователей.\n",
    "\n",
    "Для этого воспользуемся возможностями `pandas`: `.value_counts()` с параметрами по умолчанию сортирует вывод в порядке убывания количества встречаний. Тогда мы можем перенумеровать `movieId` и `userId` так, чтобы 0 соответствовал самому часто встречаемому номеру, а максимальное значение - самому редкому. Так, нам останется лишь взять все строки с `userId` < 1000 и `movieId` < 1000."
   ]
  },
  {
   "cell_type": "code",
   "execution_count": 12,
   "id": "4f528a9c",
   "metadata": {},
   "outputs": [],
   "source": [
    "# movieId мы уже перенумеровали, как надо\n",
    "# перенумеруем userId\n",
    "sorted_users = raw.userId.value_counts().index\n",
    "new_users = {user:i for i, user in enumerate(sorted_users)}\n",
    "raw.userId = raw.userId.map(new_users)"
   ]
  },
  {
   "cell_type": "code",
   "execution_count": 13,
   "id": "5e01bc62",
   "metadata": {},
   "outputs": [],
   "source": [
    "raw = raw[raw.userId.isin(range(1000)) & raw.movieId.isin(range(1000))]"
   ]
  },
  {
   "cell_type": "markdown",
   "id": "6819a878",
   "metadata": {},
   "source": [
    "### Метрика\n",
    "\n",
    "Для начала заметим, что регрессионные метрики (MAE, MSE и т.п.) не подходят к нашей задаче, поскольку наша цель не предсказать сами значения рейтинга, а правильно упорядочить фильмы в порядке предпочтений пользователя.\n",
    "\n",
    "Поэтому быдем использовать метрику $nDCG@k$, усредненную по рассматриваемым пользователям.\n",
    "\n",
    "- Эта метрика решает проблему регрессионных метрик в таких задач, учитывая не сами предсказанные значения, а их порядок.\n",
    "\n",
    "- Эту метрику можно назвать интерпретируемой, она принимает значения от 0 до 1, где 1 - идеальные предсказания.\n",
    "\n",
    "- $DCG@k$ при учете релевантность объекта учитывает также его порядок: чем ближе объект к началу, тем важнее его релевантность."
   ]
  },
  {
   "cell_type": "code",
   "execution_count": 14,
   "id": "3ec486ad",
   "metadata": {},
   "outputs": [],
   "source": [
    "def ndcg_k(user_scores, user_true, k):\n",
    "    '''\n",
    "    Compute nDCG@k metric for specific user\n",
    "    \n",
    "    user_scores: np.array\n",
    "        predicted scores for all considered movies of specific user\n",
    "    user_true: np.array\n",
    "        true ratings this user gave\n",
    "    k: int\n",
    "        number of top-rated movies to consider in DCG@k evaluation\n",
    "    '''\n",
    "    dcg_k = 0.\n",
    "    ideal = 0.\n",
    "    if k > user_scores.shape[0]:\n",
    "        k = user_scores.shape[0]\n",
    "    \n",
    "    for _k in range(1, k + 1):\n",
    "        kth = np.argsort(-user_scores)[_k]\n",
    "        dcg_k += (2 ** (user_true[kth] > 0) - 1) / np.log2(_k + 1)\n",
    "        ideal += 1 / np.log2(_k + 1)\n",
    "    \n",
    "    return dcg_k / ideal\n",
    "\n",
    "def mean_ndcg(predictions, true_scores, k):\n",
    "    '''\n",
    "    Compute mean over users nDCG@k metric\n",
    "    \n",
    "    predictions: np.array\n",
    "        predicted scores of size (n_user x n_movies)\n",
    "    true_scores: np.array\n",
    "        true ratings of size (n_user x n_movies)\n",
    "    k: int\n",
    "        'k' parameter in nDCG@k metric\n",
    "    '''\n",
    "    dcg_sum = 0.\n",
    "    for i in range(predictions.shape[0]):\n",
    "        dcg_sum += ndcg_k(predictions[i], true_scores[i], k)\n",
    "    return dcg_sum / predictions.shape[0]"
   ]
  },
  {
   "cell_type": "markdown",
   "id": "e8a123e7",
   "metadata": {},
   "source": [
    "### Разбиение данных\n",
    "\n",
    "Идея заключается в следующем: будем разбивать данные так, чтобы в обучающей выборке у нас была информацию о каждом пользователе и каждом фильме. \n",
    "\n",
    "Таким образом, в валидационной и тестовой выборках у нас не будет новых пользователей и новых фильмов, а значит мы сможем избежать проблему холодного старта."
   ]
  },
  {
   "cell_type": "markdown",
   "id": "0fbedfda",
   "metadata": {},
   "source": [
    "**Метод разбиения**\n",
    "\n",
    "- Для каждого уникального значения `userId` получаем по одной строке\n",
    "\n",
    "- Аналогично для `movieId`\n",
    "\n",
    "- Объединяем индексы этих строк. Под-датафрейм по этим индексам будет содержать по одному вхождению каждого уникального значения `userId` и `movieId`. Этот под-датафрейм пойдет в обучающую выборку."
   ]
  },
  {
   "cell_type": "code",
   "execution_count": 15,
   "id": "bd983a9c",
   "metadata": {},
   "outputs": [],
   "source": [
    "user_ind = set(raw.groupby('userId').head(1).index)\n",
    "movie_ind = set(raw.groupby('movieId').head(1).index)\n",
    "\n",
    "ind = sorted(list(user_ind.union(movie_ind)))"
   ]
  },
  {
   "cell_type": "markdown",
   "id": "efb98140",
   "metadata": {},
   "source": [
    "- Теперь разбивать стандартным способом мы будет датафрейм без этих строк. Пусть мы хотим разбить исходные данные на обучающую, отложенную и тестовую выборки в соотношении 8/1/1 (0.8 от исходных данных/0.1/0.1). Но у нас уже есть какое-то количество пар пользователь-фильм, которые гарантировано являются частью обучающей выборки. Тогда нам нужно посчитать, какую часть от исходной выборки нужно добавить в обучающую, чтобы в итоге получилось ~0.8 от исходных данных."
   ]
  },
  {
   "cell_type": "code",
   "execution_count": 16,
   "id": "4402e243",
   "metadata": {
    "scrolled": true
   },
   "outputs": [],
   "source": [
    "train_size = 0.8 - (len(ind) / raw.shape[0])"
   ]
  },
  {
   "cell_type": "markdown",
   "id": "2b1ec62c",
   "metadata": {},
   "source": [
    "- Получаем исходные данные без выбранных раннее строк. Их разбиваем с помощью метода `train_test_split`: сначала отделяем от данных ту часть, которая пойдет в обучающую выборку, а затем оставшиеся данные (это ~0.2 от исходных данных) разбиваем на две половинки, валидационную и тестовую выборки."
   ]
  },
  {
   "cell_type": "code",
   "execution_count": 17,
   "id": "70a905c5",
   "metadata": {
    "scrolled": true
   },
   "outputs": [],
   "source": [
    "raw_resid = raw.loc[~raw.index.isin(ind)]"
   ]
  },
  {
   "cell_type": "code",
   "execution_count": 18,
   "id": "209ee973",
   "metadata": {},
   "outputs": [],
   "source": [
    "train, test_val = train_test_split(raw_resid, train_size=train_size, random_state=42)\n",
    "val, test = train_test_split(test_val, test_size=0.5, random_state=42)"
   ]
  },
  {
   "cell_type": "markdown",
   "id": "c2686d14",
   "metadata": {},
   "source": [
    "- Объединяем две части обучающей выборки и перемешиваем."
   ]
  },
  {
   "cell_type": "code",
   "execution_count": 19,
   "id": "4c69bba0",
   "metadata": {},
   "outputs": [],
   "source": [
    "train = pd.concat((train, raw.loc[raw.index.isin(ind)])).sample(frac=1, random_state=42)"
   ]
  },
  {
   "cell_type": "markdown",
   "id": "40ca0af5",
   "metadata": {},
   "source": [
    "Проверим, что исходные данные разделены в желаемом соотношении:"
   ]
  },
  {
   "cell_type": "code",
   "execution_count": 20,
   "id": "daa0873c",
   "metadata": {},
   "outputs": [
    {
     "name": "stdout",
     "output_type": "stream",
     "text": [
      "Обучающая выборка: 0.797459413436058\n",
      "Валидационная выборка: 0.10126949606012967\n",
      "Тестовая выборка: 0.10127109050381232\n"
     ]
    }
   ],
   "source": [
    "tr = train.shape[0] / raw.shape[0]\n",
    "tt = test.shape[0] / raw.shape[0]\n",
    "vl = val.shape[0] / raw.shape[0]\n",
    "\n",
    "print(f'Обучающая выборка: {tr}\\nВалидационная выборка: {vl}\\nТестовая выборка: {tt}')"
   ]
  },
  {
   "cell_type": "markdown",
   "id": "5787e52b",
   "metadata": {},
   "source": [
    "### Модель"
   ]
  },
  {
   "cell_type": "markdown",
   "id": "7e79b3cc",
   "metadata": {},
   "source": [
    "Для коллаборативного подхода будем использовать модель со крытыми переменными. Метод получения матриц скрытых признаков - $ALS$. Реализуем:"
   ]
  },
  {
   "cell_type": "code",
   "execution_count": 21,
   "id": "7cb1e381",
   "metadata": {},
   "outputs": [],
   "source": [
    "class ALS:\n",
    "    def __init__(\n",
    "        self, lambda_u=0.5, lambda_m=0.5, hidden_size=10, max_iter=100, plot_history=False, tqdm_silence=True\n",
    "    ):\n",
    "        '''\n",
    "        Class for conducting collaborative filtering with ALS optimization\n",
    "        \n",
    "        lambda_u: float\n",
    "            regularization strength for user features\n",
    "        lambda_m: float\n",
    "            regularization strength for movie features\n",
    "        hidden_size: int\n",
    "            number of features (for both user and movie features)\n",
    "        max_iter: int\n",
    "            number of iterations of ALS optimization\n",
    "        plot_history: bool\n",
    "            if True, plot loss and metrics history after training\n",
    "        tqdm_silence: bool\n",
    "            if True, silence tqdm output during training\n",
    "        '''\n",
    "        self.lambda_u = lambda_u\n",
    "        self.lambda_m = lambda_m\n",
    "        self.hidden_size = hidden_size\n",
    "        self.max_iter = max_iter\n",
    "        self.plot_history = plot_history\n",
    "        self.tqdm_silence = tqdm_silence\n",
    "        # define matrices\n",
    "        self.U = None\n",
    "        self.M = None\n",
    "        self.r_sparce = None\n",
    "        # prepare history storage if needed\n",
    "        if self.plot_history:\n",
    "            # define things for ndcg@k\n",
    "            self.k_range = [5, 10, 100]\n",
    "            self.metric_history = {}\n",
    "            for k in self.k_range:\n",
    "                self.metric_history[k] = []\n",
    "            self.losses = []\n",
    "    \n",
    "    def plot(self):\n",
    "        '''\n",
    "        Plot loss and metrics history\n",
    "        \n",
    "        losses: iterable\n",
    "            contains loss/metric/etc. after each iteration of training\n",
    "        '''\n",
    "        fig, axs = plt.subplots(ncols=2, figsize=(16, 5))\n",
    "        \n",
    "        # Loss\n",
    "        axs[0].plot(np.arange(self.max_iter) + 1, self.losses)\n",
    "        axs[0].set_title('Ошибка ALS во время обучения', fontsize=16)\n",
    "        axs[0].set_ylabel('Функция потерь')\n",
    "        axs[0].set_xlabel('Итерация ALS')\n",
    "        \n",
    "        # Metrcis\n",
    "        for k in self.k_range:\n",
    "            axs[1].plot(np.arange(self.max_iter) + 1, self.metric_history[k], label=f'k = {k}')\n",
    "        axs[1].set_title('Значения метрики во время обучения', fontsize=16)\n",
    "        axs[1].set_ylabel('Mean nDCG@k')\n",
    "        axs[1].set_xlabel('Итерация ALS')\n",
    "        axs[1].legend(title='Параметр k метрики nDCG@k')\n",
    "        \n",
    "        plt.tight_layout()\n",
    "    \n",
    "    def fit(self, train):\n",
    "        '''\n",
    "        Fit model and conduct ALS optimization\n",
    "        \n",
    "        train: pd.DataFrame\n",
    "            training data for the task,\n",
    "            should contain columns 'userId', 'movieId', 'rating',\n",
    "            'userId' and 'movieId' should start with 0\n",
    "        '''\n",
    "        # extract ratings into sparse matrix\n",
    "        user_size = train.userId.max() + 1\n",
    "        movie_size = train.movieId.max() + 1\n",
    "\n",
    "        ratings = train.rating\n",
    "        self.r_sparse = sparse.csr_matrix(\n",
    "            (ratings, (train.userId, train.movieId)),\n",
    "            shape=(user_size, movie_size)\n",
    "        )\n",
    "        # create matrices of user and movie features\n",
    "        # random pre-initialization\n",
    "        self.U = np.random.normal(size=(user_size, self.hidden_size))\n",
    "        self.M = np.random.normal(size=(movie_size, self.hidden_size))\n",
    "\n",
    "        for i in tqdm(range(self.max_iter), desc='Training', disable=self.tqdm_silence, ncols=80):\n",
    "            # identity matrix\n",
    "            EYE = np.eye(self.hidden_size)\n",
    "                \n",
    "            # update feature matrices\n",
    "            self.U = self.r_sparse * self.M @ np.linalg.inv(self.M.T @ self.M + self.lambda_u * EYE)\n",
    "            self.M = self.r_sparse.T * self.U @ np.linalg.inv(self.U.T @ self.U + self.lambda_m * EYE)\n",
    "            \n",
    "            # history\n",
    "            if self.plot_history:\n",
    "                self.get_loss()\n",
    "                self.get_metric(train)\n",
    "        \n",
    "        if self.plot_history:\n",
    "            self.plot()\n",
    "        \n",
    "        return self\n",
    "    \n",
    "    def get_loss(self):\n",
    "        '''\n",
    "        Compute and store ALS loss\n",
    "        '''\n",
    "        self.losses.append(\n",
    "            np.sum((self.r_sparse.toarray() - self.U @ self.M.T) ** 2) +\\\n",
    "            self.lambda_u * np.linalg.norm(self.U, ord=2, axis=1) +\\\n",
    "            self.lambda_m * np.linalg.norm(self.M, ord=2, axis=1)\n",
    "        )\n",
    "    \n",
    "    def get_metric(self, data):\n",
    "        '''\n",
    "        Compute and store nDCG@k, where k takes values in some range\n",
    "        \n",
    "        data: pd.DataFrame\n",
    "            data to compute metrics for,\n",
    "            should contain columns 'userId', 'movieId', 'rating',\n",
    "            'userId' and 'movieId' should start with 0\n",
    "        '''\n",
    "        true_scores = data.pivot_table(index='userId', columns='movieId', values='rating', fill_value=0.)\n",
    "        u = true_scores.index.values\n",
    "        m = true_scores.columns.values\n",
    "        for k in self.k_range:\n",
    "            self.metric_history[k].append(\n",
    "                mean_ndcg(self.predict_scores(u, m), true_scores.values, k)\n",
    "            )\n",
    "    \n",
    "    def predict_scores(self, user_ids, movie_ids):\n",
    "        '''\n",
    "        Compute matrix of scores for given sequences of users and movies\n",
    "        \n",
    "        user_ids: list or np.array\n",
    "            IDs of users\n",
    "        movie_ids: list or np.array\n",
    "            IDs of movies\n",
    "        '''\n",
    "        return self.U[user_ids] @ self.M[movie_ids].T\n",
    "        \n",
    "    def predict(self, user_ids, movie_ids):\n",
    "        '''\n",
    "        Predict ratings for user-movie pairs\n",
    "        \n",
    "        user_ids: list or np.array\n",
    "            IDs of users\n",
    "        movie_ids: list or np.array\n",
    "            IDs of movies\n",
    "        '''\n",
    "        preds = []\n",
    "        for u, m in zip(user_ids, movie_ids):\n",
    "            preds.append(model.U[u] @ model.M[m])\n",
    "        return preds"
   ]
  },
  {
   "cell_type": "markdown",
   "id": "0cc48f6e",
   "metadata": {},
   "source": [
    "Проверим, что все работает."
   ]
  },
  {
   "cell_type": "code",
   "execution_count": 22,
   "id": "6c7bdf87",
   "metadata": {},
   "outputs": [],
   "source": [
    "model = ALS(hidden_size=10, max_iter=5, plot_history=True, tqdm_silence=False)"
   ]
  },
  {
   "cell_type": "code",
   "execution_count": 23,
   "id": "52543a75",
   "metadata": {},
   "outputs": [
    {
     "name": "stderr",
     "output_type": "stream",
     "text": [
      "Training: 100%|███████████████████████████████████| 5/5 [00:21<00:00,  4.38s/it]\n"
     ]
    },
    {
     "data": {
      "text/plain": [
       "<__main__.ALS at 0x132794f40>"
      ]
     },
     "execution_count": 23,
     "metadata": {},
     "output_type": "execute_result"
    },
    {
     "data": {
      "image/png": "[encoded data removed]",
      "text/plain": [
       "<Figure size 1152x360 with 2 Axes>"
      ]
     },
     "metadata": {
      "image/png": {
       "height": 353,
       "width": 1145
      }
     },
     "output_type": "display_data"
    }
   ],
   "source": [
    "model.fit(train)"
   ]
  },
  {
   "cell_type": "markdown",
   "id": "0ec0e274",
   "metadata": {},
   "source": [
    "**Подбор гиперпараметров**\n",
    "\n",
    "Подберем гиперпараметры с помощью валидации по отложенной выборке."
   ]
  },
  {
   "cell_type": "code",
   "execution_count": 24,
   "id": "4d4bc8cd",
   "metadata": {},
   "outputs": [],
   "source": [
    "def compute_metric_ALS(model, data, k):\n",
    "    '''\n",
    "    Compute mean nDCG@k for model with ALS optimization\n",
    "    \n",
    "    model: instance of ALS class\n",
    "        model to obtain predictions with\n",
    "    data: pd.DataFrame\n",
    "        data to compute metrics for,\n",
    "        should contain columns 'userId', 'movieId', 'rating',\n",
    "        'userId' and 'movieId' should start with 0\n",
    "    k: int\n",
    "        k parameter of nDCG@k metric\n",
    "    '''\n",
    "    true_scores = data.pivot_table(index='userId', columns='movieId', values='rating', fill_value=0.)\n",
    "    u = true_scores.index.values - 1\n",
    "    m = true_scores.columns.values - 1\n",
    "    predicts = model.U[u] @ model.M[m].T\n",
    "    \n",
    "    return mean_ndcg(predicts, true_scores.values, k)"
   ]
  },
  {
   "cell_type": "code",
   "execution_count": 25,
   "id": "da9064b5",
   "metadata": {},
   "outputs": [
    {
     "name": "stderr",
     "output_type": "stream",
     "text": [
      "Validating: 100%|██████████████████████████████| 10/10 [21:19<00:00, 127.91s/it]\n"
     ]
    }
   ],
   "source": [
    "lambda_range = np.logspace(-2, 1, num=10)\n",
    "hs_range = [5, 10, 20, 100, 500, 1000]\n",
    "max_iter_range = [5, 10, 20, 100]\n",
    "\n",
    "best_params = {\n",
    "    'lambda': 0.,\n",
    "    'hidden_size': 0,\n",
    "    'max_iter': 0\n",
    "}\n",
    "best_metric = 0.\n",
    "\n",
    "for lambda_ in tqdm(lambda_range, desc='Validating', ncols=80):\n",
    "    for hidden_size in hs_range:\n",
    "        for max_iter in max_iter_range:\n",
    "            model = ALS(\n",
    "                lambda_u=lambda_,\n",
    "                lambda_m=lambda_,\n",
    "                hidden_size=hidden_size,\n",
    "                max_iter=max_iter\n",
    "            )\n",
    "            model.fit(train)\n",
    "            metric = compute_metric_ALS(model, val, 10)\n",
    "            if metric > best_metric:\n",
    "                best_metric = metric\n",
    "                best_params['lambda'] = lambda_\n",
    "                best_params['hidden_size'] = hidden_size\n",
    "                best_params['max_iter'] = max_iter"
   ]
  },
  {
   "cell_type": "code",
   "execution_count": 26,
   "id": "f9f149e2",
   "metadata": {
    "scrolled": true
   },
   "outputs": [
    {
     "name": "stdout",
     "output_type": "stream",
     "text": [
      "{'lambda': 0.046415888336127774, 'hidden_size': 5, 'max_iter': 20}\n"
     ]
    }
   ],
   "source": [
    "print(best_params)"
   ]
  },
  {
   "cell_type": "code",
   "execution_count": 27,
   "id": "13b39e26",
   "metadata": {},
   "outputs": [
    {
     "data": {
      "text/plain": [
       "0.08826999266279101"
      ]
     },
     "execution_count": 27,
     "metadata": {},
     "output_type": "execute_result"
    }
   ],
   "source": [
    "best_metric"
   ]
  },
  {
   "cell_type": "code",
   "execution_count": 28,
   "id": "a8664438",
   "metadata": {},
   "outputs": [],
   "source": [
    "# чтобы не запускать подбор\n",
    "\n",
    "# best_params = {'lambda': 0.046415888336127774, 'hidden_size': 5, 'max_iter': 20}"
   ]
  },
  {
   "cell_type": "code",
   "execution_count": 29,
   "id": "30bfa97e",
   "metadata": {},
   "outputs": [],
   "source": [
    "best_als = ALS(\n",
    "    lambda_u = best_params['lambda'],\n",
    "    lambda_m = best_params['lambda'],\n",
    "    hidden_size=best_params['hidden_size'], \n",
    "    max_iter=best_params['max_iter']\n",
    ")"
   ]
  },
  {
   "cell_type": "markdown",
   "id": "363f8bde",
   "metadata": {},
   "source": [
    "## Коллаборативный  + контентный подход"
   ]
  },
  {
   "cell_type": "markdown",
   "id": "c81abb2e",
   "metadata": {},
   "source": [
    "### Загрузка и предобработка данных"
   ]
  },
  {
   "cell_type": "markdown",
   "id": "f82768fb",
   "metadata": {},
   "source": [
    "Для начала получим упорядоченную последовательность всех возможных `movieId`. С ее помощью нам будет удобно реиндексировать данные для фильмов."
   ]
  },
  {
   "cell_type": "code",
   "execution_count": 30,
   "id": "ffd136e7",
   "metadata": {},
   "outputs": [],
   "source": [
    "ind = np.arange(MOVIE_MAX) + 1"
   ]
  },
  {
   "cell_type": "markdown",
   "id": "5aad317a",
   "metadata": {},
   "source": [
    "Для того, чтобы получить векторные представления признаков фильмов, которые будут подаваться `LightFM` во время обучения и предсказания, будем использовать `Dataset` из библиотеки `lightfm`.\n",
    "\n",
    "Чтобы создать датасет, для каждого признака нам нужно будет получить все его уникальные значения, сохранить их в формате `{название признака:значение}`."
   ]
  },
  {
   "cell_type": "markdown",
   "id": "ff624338",
   "metadata": {},
   "source": [
    "### tags.csv"
   ]
  },
  {
   "cell_type": "code",
   "execution_count": 31,
   "id": "afe42200",
   "metadata": {},
   "outputs": [
    {
     "data": {
      "text/html": [
       "<div>\n",
       "<style scoped>\n",
       "    .dataframe tbody tr th:only-of-type {\n",
       "        vertical-align: middle;\n",
       "    }\n",
       "\n",
       "    .dataframe tbody tr th {\n",
       "        vertical-align: top;\n",
       "    }\n",
       "\n",
       "    .dataframe thead th {\n",
       "        text-align: right;\n",
       "    }\n",
       "</style>\n",
       "<table border=\"1\" class=\"dataframe\">\n",
       "  <thead>\n",
       "    <tr style=\"text-align: right;\">\n",
       "      <th></th>\n",
       "      <th>userId</th>\n",
       "      <th>movieId</th>\n",
       "      <th>tag</th>\n",
       "      <th>timestamp</th>\n",
       "    </tr>\n",
       "  </thead>\n",
       "  <tbody>\n",
       "    <tr>\n",
       "      <th>380178</th>\n",
       "      <td>119367</td>\n",
       "      <td>58559</td>\n",
       "      <td>Christian Bale</td>\n",
       "      <td>2009-05-12 02:52:15</td>\n",
       "    </tr>\n",
       "    <tr>\n",
       "      <th>292553</th>\n",
       "      <td>88738</td>\n",
       "      <td>899</td>\n",
       "      <td>vocalists</td>\n",
       "      <td>2009-07-04 19:23:55</td>\n",
       "    </tr>\n",
       "    <tr>\n",
       "      <th>740</th>\n",
       "      <td>348</td>\n",
       "      <td>69951</td>\n",
       "      <td>new</td>\n",
       "      <td>2010-01-07 22:01:29</td>\n",
       "    </tr>\n",
       "  </tbody>\n",
       "</table>\n",
       "</div>"
      ],
      "text/plain": [
       "        userId  movieId             tag            timestamp\n",
       "380178  119367    58559  Christian Bale  2009-05-12 02:52:15\n",
       "292553   88738      899       vocalists  2009-07-04 19:23:55\n",
       "740        348    69951             new  2010-01-07 22:01:29"
      ]
     },
     "execution_count": 31,
     "metadata": {},
     "output_type": "execute_result"
    }
   ],
   "source": [
    "tags = pd.read_csv('data/tag.csv')\n",
    "tags.sample(3)"
   ]
  },
  {
   "cell_type": "markdown",
   "id": "33d7a130",
   "metadata": {},
   "source": [
    "Это данные про то, какую текстовую метку пользователь сопоставил фильму.\n",
    "\n",
    "Поскольку одному фильму может быть сопоставлено несколько пользовательских меток, то можно обработать их так: каждому фильму будет соспоставлена последовательность из 0 и 1, где на i-ом месте стоит 1, если i-ая метка была поставлена фильму, и 0 иначе."
   ]
  },
  {
   "cell_type": "code",
   "execution_count": 32,
   "id": "e8363b2d",
   "metadata": {},
   "outputs": [
    {
     "data": {
      "text/plain": [
       "38643"
      ]
     },
     "execution_count": 32,
     "metadata": {},
     "output_type": "execute_result"
    }
   ],
   "source": [
    "tags.tag.nunique()"
   ]
  },
  {
   "cell_type": "markdown",
   "id": "9fb6c38a",
   "metadata": {},
   "source": [
    "Видим, что пользовательских меток много, особенно в сравнении с количеством рассматриваемых фильмов (их 1000). Таким образом, данные о пользовательских метках будут разрежены. Из таких данных модели сложнее получить какую-то ценную информацию, и она более склонна к переобучению.\n",
    "\n",
    "Поэтому **tags.csv** мы использовать не будем."
   ]
  },
  {
   "cell_type": "markdown",
   "id": "920c96ef",
   "metadata": {},
   "source": [
    "### movie.csv"
   ]
  },
  {
   "cell_type": "code",
   "execution_count": 33,
   "id": "6de3656b",
   "metadata": {},
   "outputs": [
    {
     "data": {
      "text/html": [
       "<div>\n",
       "<style scoped>\n",
       "    .dataframe tbody tr th:only-of-type {\n",
       "        vertical-align: middle;\n",
       "    }\n",
       "\n",
       "    .dataframe tbody tr th {\n",
       "        vertical-align: top;\n",
       "    }\n",
       "\n",
       "    .dataframe thead th {\n",
       "        text-align: right;\n",
       "    }\n",
       "</style>\n",
       "<table border=\"1\" class=\"dataframe\">\n",
       "  <thead>\n",
       "    <tr style=\"text-align: right;\">\n",
       "      <th></th>\n",
       "      <th>movieId</th>\n",
       "      <th>title</th>\n",
       "      <th>genres</th>\n",
       "    </tr>\n",
       "  </thead>\n",
       "  <tbody>\n",
       "    <tr>\n",
       "      <th>23708</th>\n",
       "      <td>112753</td>\n",
       "      <td>Torment (2013)</td>\n",
       "      <td>Horror|Thriller</td>\n",
       "    </tr>\n",
       "    <tr>\n",
       "      <th>12936</th>\n",
       "      <td>61253</td>\n",
       "      <td>Longshots, The (2008)</td>\n",
       "      <td>Drama</td>\n",
       "    </tr>\n",
       "    <tr>\n",
       "      <th>27027</th>\n",
       "      <td>129887</td>\n",
       "      <td>Moving Alan</td>\n",
       "      <td>(no genres listed)</td>\n",
       "    </tr>\n",
       "  </tbody>\n",
       "</table>\n",
       "</div>"
      ],
      "text/plain": [
       "       movieId                  title              genres\n",
       "23708   112753         Torment (2013)     Horror|Thriller\n",
       "12936    61253  Longshots, The (2008)               Drama\n",
       "27027   129887            Moving Alan  (no genres listed)"
      ]
     },
     "execution_count": 33,
     "metadata": {},
     "output_type": "execute_result"
    }
   ],
   "source": [
    "movie = pd.read_csv('data/movie.csv')\n",
    "movie.sample(3, random_state=154)"
   ]
  },
  {
   "cell_type": "markdown",
   "id": "e76133b0",
   "metadata": {},
   "source": [
    "В этих данных фильму сопоставлены два типа текстовой информации: название и список жанров."
   ]
  },
  {
   "cell_type": "markdown",
   "id": "72779b28",
   "metadata": {},
   "source": [
    "**Жанры**\n",
    "\n",
    "Каждому фильму может соответсвовать несколько жанров. Обработаем эти данные так, чтобы каждому фильму соответствовала последовательность из 0 и 1, где 1 означает, что соответсвующий жанр соответсвует этому фильму. "
   ]
  },
  {
   "cell_type": "code",
   "execution_count": 34,
   "id": "9bbbf852",
   "metadata": {},
   "outputs": [],
   "source": [
    "movie_features = movie.set_index('movieId').genres.str.split('|', expand=True).replace(\n",
    "    {'(no genres listed)': None}).stack().reset_index().pivot_table(\n",
    "    index='movieId', columns=0, fill_value=0, aggfunc='size').rename_axis(None, axis=0).reindex(ind, fill_value=0)"
   ]
  },
  {
   "cell_type": "code",
   "execution_count": 35,
   "id": "c1516a5f",
   "metadata": {},
   "outputs": [
    {
     "data": {
      "text/html": [
       "<div>\n",
       "<style scoped>\n",
       "    .dataframe tbody tr th:only-of-type {\n",
       "        vertical-align: middle;\n",
       "    }\n",
       "\n",
       "    .dataframe tbody tr th {\n",
       "        vertical-align: top;\n",
       "    }\n",
       "\n",
       "    .dataframe thead th {\n",
       "        text-align: right;\n",
       "    }\n",
       "</style>\n",
       "<table border=\"1\" class=\"dataframe\">\n",
       "  <thead>\n",
       "    <tr style=\"text-align: right;\">\n",
       "      <th></th>\n",
       "      <th>Action</th>\n",
       "      <th>Adventure</th>\n",
       "      <th>Animation</th>\n",
       "      <th>Children</th>\n",
       "      <th>Comedy</th>\n",
       "      <th>Crime</th>\n",
       "      <th>Documentary</th>\n",
       "      <th>Drama</th>\n",
       "      <th>Fantasy</th>\n",
       "      <th>Film-Noir</th>\n",
       "      <th>Horror</th>\n",
       "      <th>IMAX</th>\n",
       "      <th>Musical</th>\n",
       "      <th>Mystery</th>\n",
       "      <th>Romance</th>\n",
       "      <th>Sci-Fi</th>\n",
       "      <th>Thriller</th>\n",
       "      <th>War</th>\n",
       "      <th>Western</th>\n",
       "    </tr>\n",
       "  </thead>\n",
       "  <tbody>\n",
       "    <tr>\n",
       "      <th>1</th>\n",
       "      <td>0</td>\n",
       "      <td>1</td>\n",
       "      <td>1</td>\n",
       "      <td>1</td>\n",
       "      <td>1</td>\n",
       "      <td>0</td>\n",
       "      <td>0</td>\n",
       "      <td>0</td>\n",
       "      <td>1</td>\n",
       "      <td>0</td>\n",
       "      <td>0</td>\n",
       "      <td>0</td>\n",
       "      <td>0</td>\n",
       "      <td>0</td>\n",
       "      <td>0</td>\n",
       "      <td>0</td>\n",
       "      <td>0</td>\n",
       "      <td>0</td>\n",
       "      <td>0</td>\n",
       "    </tr>\n",
       "    <tr>\n",
       "      <th>2</th>\n",
       "      <td>0</td>\n",
       "      <td>1</td>\n",
       "      <td>0</td>\n",
       "      <td>1</td>\n",
       "      <td>0</td>\n",
       "      <td>0</td>\n",
       "      <td>0</td>\n",
       "      <td>0</td>\n",
       "      <td>1</td>\n",
       "      <td>0</td>\n",
       "      <td>0</td>\n",
       "      <td>0</td>\n",
       "      <td>0</td>\n",
       "      <td>0</td>\n",
       "      <td>0</td>\n",
       "      <td>0</td>\n",
       "      <td>0</td>\n",
       "      <td>0</td>\n",
       "      <td>0</td>\n",
       "    </tr>\n",
       "    <tr>\n",
       "      <th>3</th>\n",
       "      <td>0</td>\n",
       "      <td>0</td>\n",
       "      <td>0</td>\n",
       "      <td>0</td>\n",
       "      <td>1</td>\n",
       "      <td>0</td>\n",
       "      <td>0</td>\n",
       "      <td>0</td>\n",
       "      <td>0</td>\n",
       "      <td>0</td>\n",
       "      <td>0</td>\n",
       "      <td>0</td>\n",
       "      <td>0</td>\n",
       "      <td>0</td>\n",
       "      <td>1</td>\n",
       "      <td>0</td>\n",
       "      <td>0</td>\n",
       "      <td>0</td>\n",
       "      <td>0</td>\n",
       "    </tr>\n",
       "  </tbody>\n",
       "</table>\n",
       "</div>"
      ],
      "text/plain": [
       "0  Action  Adventure  Animation  Children  Comedy  Crime  Documentary  Drama  \\\n",
       "1       0          1          1         1       1      0            0      0   \n",
       "2       0          1          0         1       0      0            0      0   \n",
       "3       0          0          0         0       1      0            0      0   \n",
       "\n",
       "0  Fantasy  Film-Noir  Horror  IMAX  Musical  Mystery  Romance  Sci-Fi  \\\n",
       "1        1          0       0     0        0        0        0       0   \n",
       "2        1          0       0     0        0        0        0       0   \n",
       "3        0          0       0     0        0        0        1       0   \n",
       "\n",
       "0  Thriller  War  Western  \n",
       "1         0    0        0  \n",
       "2         0    0        0  \n",
       "3         0    0        0  "
      ]
     },
     "execution_count": 35,
     "metadata": {},
     "output_type": "execute_result"
    }
   ],
   "source": [
    "movie_features.head(3)"
   ]
  },
  {
   "cell_type": "markdown",
   "id": "b975924d",
   "metadata": {},
   "source": [
    "**Название**\n",
    "\n",
    "Название сохраним без дополнительной предобработки."
   ]
  },
  {
   "cell_type": "code",
   "execution_count": 36,
   "id": "4147391b",
   "metadata": {},
   "outputs": [],
   "source": [
    "movie_features['title'] = movie.set_index('movieId').title.reindex(ind).fillna('')"
   ]
  },
  {
   "cell_type": "markdown",
   "id": "dc65f548",
   "metadata": {},
   "source": [
    "### links.csv"
   ]
  },
  {
   "cell_type": "code",
   "execution_count": 37,
   "id": "3057e63a",
   "metadata": {},
   "outputs": [
    {
     "data": {
      "text/html": [
       "<div>\n",
       "<style scoped>\n",
       "    .dataframe tbody tr th:only-of-type {\n",
       "        vertical-align: middle;\n",
       "    }\n",
       "\n",
       "    .dataframe tbody tr th {\n",
       "        vertical-align: top;\n",
       "    }\n",
       "\n",
       "    .dataframe thead th {\n",
       "        text-align: right;\n",
       "    }\n",
       "</style>\n",
       "<table border=\"1\" class=\"dataframe\">\n",
       "  <thead>\n",
       "    <tr style=\"text-align: right;\">\n",
       "      <th></th>\n",
       "      <th>movieId</th>\n",
       "      <th>imdbId</th>\n",
       "      <th>tmdbId</th>\n",
       "    </tr>\n",
       "  </thead>\n",
       "  <tbody>\n",
       "    <tr>\n",
       "      <th>10488</th>\n",
       "      <td>38881</td>\n",
       "      <td>67633</td>\n",
       "      <td>26513.0</td>\n",
       "    </tr>\n",
       "    <tr>\n",
       "      <th>19154</th>\n",
       "      <td>95199</td>\n",
       "      <td>1586265</td>\n",
       "      <td>76494.0</td>\n",
       "    </tr>\n",
       "    <tr>\n",
       "      <th>655</th>\n",
       "      <td>663</td>\n",
       "      <td>116768</td>\n",
       "      <td>18414.0</td>\n",
       "    </tr>\n",
       "  </tbody>\n",
       "</table>\n",
       "</div>"
      ],
      "text/plain": [
       "       movieId   imdbId   tmdbId\n",
       "10488    38881    67633  26513.0\n",
       "19154    95199  1586265  76494.0\n",
       "655        663   116768  18414.0"
      ]
     },
     "execution_count": 37,
     "metadata": {},
     "output_type": "execute_result"
    }
   ],
   "source": [
    "links = pd.read_csv('data/link.csv')\n",
    "links.sample(3)"
   ]
  },
  {
   "cell_type": "markdown",
   "id": "d8fc04f7",
   "metadata": {},
   "source": [
    "Эти числовые данные тоже добавим без предобработки."
   ]
  },
  {
   "cell_type": "code",
   "execution_count": 38,
   "id": "57092ef3",
   "metadata": {},
   "outputs": [],
   "source": [
    "movie_features['imdbId'] = links.set_index('movieId').reindex(ind).fillna(0).imdbId\n",
    "movie_features['tmdbId'] = links.set_index('movieId').reindex(ind).fillna(0).tmdbId"
   ]
  },
  {
   "cell_type": "markdown",
   "id": "e10c1999",
   "metadata": {},
   "source": [
    "### genome_scores.csv & genome_tags.csv"
   ]
  },
  {
   "cell_type": "code",
   "execution_count": 39,
   "id": "f5744326",
   "metadata": {},
   "outputs": [
    {
     "data": {
      "text/html": [
       "<div>\n",
       "<style scoped>\n",
       "    .dataframe tbody tr th:only-of-type {\n",
       "        vertical-align: middle;\n",
       "    }\n",
       "\n",
       "    .dataframe tbody tr th {\n",
       "        vertical-align: top;\n",
       "    }\n",
       "\n",
       "    .dataframe thead th {\n",
       "        text-align: right;\n",
       "    }\n",
       "</style>\n",
       "<table border=\"1\" class=\"dataframe\">\n",
       "  <thead>\n",
       "    <tr style=\"text-align: right;\">\n",
       "      <th></th>\n",
       "      <th>movieId</th>\n",
       "      <th>tagId</th>\n",
       "      <th>relevance</th>\n",
       "    </tr>\n",
       "  </thead>\n",
       "  <tbody>\n",
       "    <tr>\n",
       "      <th>7462588</th>\n",
       "      <td>8622</td>\n",
       "      <td>869</td>\n",
       "      <td>0.06875</td>\n",
       "    </tr>\n",
       "    <tr>\n",
       "      <th>3190507</th>\n",
       "      <td>3182</td>\n",
       "      <td>524</td>\n",
       "      <td>0.18725</td>\n",
       "    </tr>\n",
       "    <tr>\n",
       "      <th>6182316</th>\n",
       "      <td>6428</td>\n",
       "      <td>877</td>\n",
       "      <td>0.06975</td>\n",
       "    </tr>\n",
       "  </tbody>\n",
       "</table>\n",
       "</div>"
      ],
      "text/plain": [
       "         movieId  tagId  relevance\n",
       "7462588     8622    869    0.06875\n",
       "3190507     3182    524    0.18725\n",
       "6182316     6428    877    0.06975"
      ]
     },
     "execution_count": 39,
     "metadata": {},
     "output_type": "execute_result"
    }
   ],
   "source": [
    "genome_scores = pd.read_csv('data/genome_scores.csv')\n",
    "genome_scores.sample(3)"
   ]
  },
  {
   "cell_type": "code",
   "execution_count": 40,
   "id": "c0aa46b3",
   "metadata": {},
   "outputs": [
    {
     "data": {
      "text/html": [
       "<div>\n",
       "<style scoped>\n",
       "    .dataframe tbody tr th:only-of-type {\n",
       "        vertical-align: middle;\n",
       "    }\n",
       "\n",
       "    .dataframe tbody tr th {\n",
       "        vertical-align: top;\n",
       "    }\n",
       "\n",
       "    .dataframe thead th {\n",
       "        text-align: right;\n",
       "    }\n",
       "</style>\n",
       "<table border=\"1\" class=\"dataframe\">\n",
       "  <thead>\n",
       "    <tr style=\"text-align: right;\">\n",
       "      <th></th>\n",
       "      <th>tagId</th>\n",
       "      <th>tag</th>\n",
       "    </tr>\n",
       "  </thead>\n",
       "  <tbody>\n",
       "    <tr>\n",
       "      <th>273</th>\n",
       "      <td>274</td>\n",
       "      <td>cult</td>\n",
       "    </tr>\n",
       "    <tr>\n",
       "      <th>752</th>\n",
       "      <td>753</td>\n",
       "      <td>oscar (best foreign language film)</td>\n",
       "    </tr>\n",
       "    <tr>\n",
       "      <th>76</th>\n",
       "      <td>77</td>\n",
       "      <td>artificial intelligence</td>\n",
       "    </tr>\n",
       "  </tbody>\n",
       "</table>\n",
       "</div>"
      ],
      "text/plain": [
       "     tagId                                 tag\n",
       "273    274                                cult\n",
       "752    753  oscar (best foreign language film)\n",
       "76      77             artificial intelligence"
      ]
     },
     "execution_count": 40,
     "metadata": {},
     "output_type": "execute_result"
    }
   ],
   "source": [
    "genome_tags = pd.read_csv('data/genome_tags.csv')\n",
    "genome_tags.sample(3)"
   ]
  },
  {
   "cell_type": "markdown",
   "id": "03011c45",
   "metadata": {},
   "source": [
    "В первой табличке хранится информация о том, насколько некоторая метка подходит к некоторому фильму. Во второй - текстовые описания этих меток.\n",
    "\n",
    "Хочется учесть не только релевантность меток, но и их описания.\n",
    "\n",
    "Для каждой метки мы можем получить векторное представление текстового описания. А чтобы получить информацию о фильмах, мы можем для каждого фильма посчитать взвешенную сумму векторных представлений меток, где веса - коэффициенты `relevance` из первой таблички."
   ]
  },
  {
   "cell_type": "markdown",
   "id": "17683e74",
   "metadata": {},
   "source": [
    "Векторные представления текстовых описаний получим так:\n",
    "\n",
    "- Токенизируем текст\n",
    "\n",
    "- Получим векторной представление каждого токена с помощью Word2Vec\n",
    "\n",
    "- Для каждой метки получим векторное представление, усреднив W2V по всем токенам"
   ]
  },
  {
   "cell_type": "code",
   "execution_count": 41,
   "id": "f2699b79",
   "metadata": {},
   "outputs": [],
   "source": [
    "def mean(embeddings, embed_size):\n",
    "    '''\n",
    "    Mean over sequnce of embeddings\n",
    "    aiming to control empty sequences\n",
    "    \n",
    "    embeddings: np.array\n",
    "        sequnce of embeddings\n",
    "    embed_size: int\n",
    "        dimesion of embeddings space\n",
    "    '''\n",
    "    if not len(embeddings):\n",
    "        return np.zeros(embed_size)\n",
    "    return np.mean(embeddings, axis=0)\n",
    "\n",
    "def get_embeddings(text_data, embed_size):\n",
    "    '''\n",
    "    Get embeddings of textual feature\n",
    "    \n",
    "    text_data: pd.Series\n",
    "        textual feature,\n",
    "        length should be equal to maximum movieID\n",
    "    embed_size: int\n",
    "        dimesion of embeddings space\n",
    "    '''\n",
    "    # lower case + tokenization\n",
    "    tokenizer = WordPunctTokenizer()\n",
    "    tokenized = list(map(tokenizer.tokenize, list(map(str.lower, text_data.values))))\n",
    "    # fit W2V\n",
    "    model = Word2Vec(tokenized, vector_size=embed_size, min_count=1, window=5).wv\n",
    "    # compute mean embedding for every movie\n",
    "    return np.array([mean(\n",
    "        np.array(list(map(model.get_vector, seq))),\n",
    "        embed_size) for seq in tokenized])"
   ]
  },
  {
   "cell_type": "code",
   "execution_count": 42,
   "id": "190795a2",
   "metadata": {},
   "outputs": [],
   "source": [
    "EMBED_SIZE=32\n",
    "g_tags = get_embeddings(\n",
    "    genome_tags.set_index('tagId').tag.reindex(np.arange(genome_scores.tagId.max()) + 1).fillna(''),\n",
    "    EMBED_SIZE\n",
    ")"
   ]
  },
  {
   "cell_type": "markdown",
   "id": "35525f21",
   "metadata": {},
   "source": [
    "Чтобы было удобнее считать взвешенную сумму, преобразуем первую табличку в табличку формата (n_movies x n_tags), где на (i, j) месте будет `relevance` j-ой метки по отношению к i-ому фильму."
   ]
  },
  {
   "cell_type": "code",
   "execution_count": 43,
   "id": "f61a7302",
   "metadata": {},
   "outputs": [
    {
     "data": {
      "text/html": [
       "<div>\n",
       "<style scoped>\n",
       "    .dataframe tbody tr th:only-of-type {\n",
       "        vertical-align: middle;\n",
       "    }\n",
       "\n",
       "    .dataframe tbody tr th {\n",
       "        vertical-align: top;\n",
       "    }\n",
       "\n",
       "    .dataframe thead th {\n",
       "        text-align: right;\n",
       "    }\n",
       "</style>\n",
       "<table border=\"1\" class=\"dataframe\">\n",
       "  <thead>\n",
       "    <tr style=\"text-align: right;\">\n",
       "      <th>tagId</th>\n",
       "      <th>1</th>\n",
       "      <th>2</th>\n",
       "      <th>3</th>\n",
       "      <th>4</th>\n",
       "      <th>5</th>\n",
       "      <th>6</th>\n",
       "      <th>7</th>\n",
       "      <th>8</th>\n",
       "      <th>9</th>\n",
       "      <th>10</th>\n",
       "      <th>...</th>\n",
       "      <th>1119</th>\n",
       "      <th>1120</th>\n",
       "      <th>1121</th>\n",
       "      <th>1122</th>\n",
       "      <th>1123</th>\n",
       "      <th>1124</th>\n",
       "      <th>1125</th>\n",
       "      <th>1126</th>\n",
       "      <th>1127</th>\n",
       "      <th>1128</th>\n",
       "    </tr>\n",
       "    <tr>\n",
       "      <th>movieId</th>\n",
       "      <th></th>\n",
       "      <th></th>\n",
       "      <th></th>\n",
       "      <th></th>\n",
       "      <th></th>\n",
       "      <th></th>\n",
       "      <th></th>\n",
       "      <th></th>\n",
       "      <th></th>\n",
       "      <th></th>\n",
       "      <th></th>\n",
       "      <th></th>\n",
       "      <th></th>\n",
       "      <th></th>\n",
       "      <th></th>\n",
       "      <th></th>\n",
       "      <th></th>\n",
       "      <th></th>\n",
       "      <th></th>\n",
       "      <th></th>\n",
       "      <th></th>\n",
       "    </tr>\n",
       "  </thead>\n",
       "  <tbody>\n",
       "    <tr>\n",
       "      <th>1</th>\n",
       "      <td>0.02500</td>\n",
       "      <td>0.02500</td>\n",
       "      <td>0.05775</td>\n",
       "      <td>0.09675</td>\n",
       "      <td>0.14675</td>\n",
       "      <td>0.2170</td>\n",
       "      <td>0.06700</td>\n",
       "      <td>0.26275</td>\n",
       "      <td>0.26200</td>\n",
       "      <td>0.03200</td>\n",
       "      <td>...</td>\n",
       "      <td>0.03950</td>\n",
       "      <td>0.01800</td>\n",
       "      <td>0.04575</td>\n",
       "      <td>0.03275</td>\n",
       "      <td>0.1250</td>\n",
       "      <td>0.04150</td>\n",
       "      <td>0.01925</td>\n",
       "      <td>0.03625</td>\n",
       "      <td>0.07775</td>\n",
       "      <td>0.02300</td>\n",
       "    </tr>\n",
       "    <tr>\n",
       "      <th>2</th>\n",
       "      <td>0.03975</td>\n",
       "      <td>0.04375</td>\n",
       "      <td>0.03775</td>\n",
       "      <td>0.04800</td>\n",
       "      <td>0.11025</td>\n",
       "      <td>0.0725</td>\n",
       "      <td>0.04775</td>\n",
       "      <td>0.10975</td>\n",
       "      <td>0.09925</td>\n",
       "      <td>0.02050</td>\n",
       "      <td>...</td>\n",
       "      <td>0.04175</td>\n",
       "      <td>0.01925</td>\n",
       "      <td>0.01725</td>\n",
       "      <td>0.02425</td>\n",
       "      <td>0.1255</td>\n",
       "      <td>0.02250</td>\n",
       "      <td>0.01550</td>\n",
       "      <td>0.01475</td>\n",
       "      <td>0.09025</td>\n",
       "      <td>0.01875</td>\n",
       "    </tr>\n",
       "    <tr>\n",
       "      <th>3</th>\n",
       "      <td>0.04350</td>\n",
       "      <td>0.05475</td>\n",
       "      <td>0.02800</td>\n",
       "      <td>0.07700</td>\n",
       "      <td>0.05400</td>\n",
       "      <td>0.0685</td>\n",
       "      <td>0.05600</td>\n",
       "      <td>0.18500</td>\n",
       "      <td>0.04925</td>\n",
       "      <td>0.02675</td>\n",
       "      <td>...</td>\n",
       "      <td>0.04150</td>\n",
       "      <td>0.02675</td>\n",
       "      <td>0.02775</td>\n",
       "      <td>0.03425</td>\n",
       "      <td>0.1555</td>\n",
       "      <td>0.03675</td>\n",
       "      <td>0.01700</td>\n",
       "      <td>0.01950</td>\n",
       "      <td>0.09700</td>\n",
       "      <td>0.01850</td>\n",
       "    </tr>\n",
       "  </tbody>\n",
       "</table>\n",
       "<p>3 rows × 1128 columns</p>\n",
       "</div>"
      ],
      "text/plain": [
       "tagId       1        2        3        4        5       6        7     \\\n",
       "movieId                                                                 \n",
       "1        0.02500  0.02500  0.05775  0.09675  0.14675  0.2170  0.06700   \n",
       "2        0.03975  0.04375  0.03775  0.04800  0.11025  0.0725  0.04775   \n",
       "3        0.04350  0.05475  0.02800  0.07700  0.05400  0.0685  0.05600   \n",
       "\n",
       "tagId       8        9        10    ...     1119     1120     1121     1122  \\\n",
       "movieId                             ...                                       \n",
       "1        0.26275  0.26200  0.03200  ...  0.03950  0.01800  0.04575  0.03275   \n",
       "2        0.10975  0.09925  0.02050  ...  0.04175  0.01925  0.01725  0.02425   \n",
       "3        0.18500  0.04925  0.02675  ...  0.04150  0.02675  0.02775  0.03425   \n",
       "\n",
       "tagId      1123     1124     1125     1126     1127     1128  \n",
       "movieId                                                       \n",
       "1        0.1250  0.04150  0.01925  0.03625  0.07775  0.02300  \n",
       "2        0.1255  0.02250  0.01550  0.01475  0.09025  0.01875  \n",
       "3        0.1555  0.03675  0.01700  0.01950  0.09700  0.01850  \n",
       "\n",
       "[3 rows x 1128 columns]"
      ]
     },
     "execution_count": 43,
     "metadata": {},
     "output_type": "execute_result"
    }
   ],
   "source": [
    "g_rel = genome_scores.pivot_table(\n",
    "    index='movieId', columns='tagId', values='relevance', fill_value=0\n",
    ").reindex(ind).fillna(0).sort_index(axis=1)\n",
    "g_rel.head(3)"
   ]
  },
  {
   "cell_type": "markdown",
   "id": "1fbd29d6",
   "metadata": {},
   "source": [
    "Теперь взвешенная сумма векторных представлений меток - это просто матричное произведение матрицы весов на матрицу векторных представлений. Добавим это в нашу таблицу признаков."
   ]
  },
  {
   "cell_type": "code",
   "execution_count": 44,
   "id": "92d300ef",
   "metadata": {},
   "outputs": [],
   "source": [
    "movie_features = pd.concat((\n",
    "    movie_features,\n",
    "    g_rel @ g_tags\n",
    "), axis=1)"
   ]
  },
  {
   "cell_type": "markdown",
   "id": "98ea9011",
   "metadata": {},
   "source": [
    "Итого:"
   ]
  },
  {
   "cell_type": "code",
   "execution_count": 45,
   "id": "b80d8439",
   "metadata": {},
   "outputs": [
    {
     "data": {
      "text/html": [
       "<div>\n",
       "<style scoped>\n",
       "    .dataframe tbody tr th:only-of-type {\n",
       "        vertical-align: middle;\n",
       "    }\n",
       "\n",
       "    .dataframe tbody tr th {\n",
       "        vertical-align: top;\n",
       "    }\n",
       "\n",
       "    .dataframe thead th {\n",
       "        text-align: right;\n",
       "    }\n",
       "</style>\n",
       "<table border=\"1\" class=\"dataframe\">\n",
       "  <thead>\n",
       "    <tr style=\"text-align: right;\">\n",
       "      <th></th>\n",
       "      <th>Action</th>\n",
       "      <th>Adventure</th>\n",
       "      <th>Animation</th>\n",
       "      <th>Children</th>\n",
       "      <th>Comedy</th>\n",
       "      <th>Crime</th>\n",
       "      <th>Documentary</th>\n",
       "      <th>Drama</th>\n",
       "      <th>Fantasy</th>\n",
       "      <th>Film-Noir</th>\n",
       "      <th>...</th>\n",
       "      <th>22</th>\n",
       "      <th>23</th>\n",
       "      <th>24</th>\n",
       "      <th>25</th>\n",
       "      <th>26</th>\n",
       "      <th>27</th>\n",
       "      <th>28</th>\n",
       "      <th>29</th>\n",
       "      <th>30</th>\n",
       "      <th>31</th>\n",
       "    </tr>\n",
       "  </thead>\n",
       "  <tbody>\n",
       "    <tr>\n",
       "      <th>1</th>\n",
       "      <td>0</td>\n",
       "      <td>1</td>\n",
       "      <td>1</td>\n",
       "      <td>1</td>\n",
       "      <td>1</td>\n",
       "      <td>0</td>\n",
       "      <td>0</td>\n",
       "      <td>0</td>\n",
       "      <td>1</td>\n",
       "      <td>0</td>\n",
       "      <td>...</td>\n",
       "      <td>0.378041</td>\n",
       "      <td>-0.041499</td>\n",
       "      <td>-0.165632</td>\n",
       "      <td>-0.164631</td>\n",
       "      <td>-0.193850</td>\n",
       "      <td>-0.144911</td>\n",
       "      <td>-0.067228</td>\n",
       "      <td>-0.226316</td>\n",
       "      <td>-0.118943</td>\n",
       "      <td>0.146792</td>\n",
       "    </tr>\n",
       "    <tr>\n",
       "      <th>2</th>\n",
       "      <td>0</td>\n",
       "      <td>1</td>\n",
       "      <td>0</td>\n",
       "      <td>1</td>\n",
       "      <td>0</td>\n",
       "      <td>0</td>\n",
       "      <td>0</td>\n",
       "      <td>0</td>\n",
       "      <td>1</td>\n",
       "      <td>0</td>\n",
       "      <td>...</td>\n",
       "      <td>0.219363</td>\n",
       "      <td>0.041798</td>\n",
       "      <td>-0.162652</td>\n",
       "      <td>-0.177201</td>\n",
       "      <td>-0.187337</td>\n",
       "      <td>-0.028217</td>\n",
       "      <td>-0.162851</td>\n",
       "      <td>-0.251472</td>\n",
       "      <td>-0.015372</td>\n",
       "      <td>0.020435</td>\n",
       "    </tr>\n",
       "    <tr>\n",
       "      <th>3</th>\n",
       "      <td>0</td>\n",
       "      <td>0</td>\n",
       "      <td>0</td>\n",
       "      <td>0</td>\n",
       "      <td>1</td>\n",
       "      <td>0</td>\n",
       "      <td>0</td>\n",
       "      <td>0</td>\n",
       "      <td>0</td>\n",
       "      <td>0</td>\n",
       "      <td>...</td>\n",
       "      <td>0.212934</td>\n",
       "      <td>-0.103764</td>\n",
       "      <td>-0.166946</td>\n",
       "      <td>-0.089485</td>\n",
       "      <td>-0.139654</td>\n",
       "      <td>0.026715</td>\n",
       "      <td>-0.053008</td>\n",
       "      <td>-0.150483</td>\n",
       "      <td>-0.102074</td>\n",
       "      <td>0.048749</td>\n",
       "    </tr>\n",
       "    <tr>\n",
       "      <th>4</th>\n",
       "      <td>0</td>\n",
       "      <td>0</td>\n",
       "      <td>0</td>\n",
       "      <td>0</td>\n",
       "      <td>1</td>\n",
       "      <td>0</td>\n",
       "      <td>0</td>\n",
       "      <td>1</td>\n",
       "      <td>0</td>\n",
       "      <td>0</td>\n",
       "      <td>...</td>\n",
       "      <td>0.184004</td>\n",
       "      <td>-0.039083</td>\n",
       "      <td>-0.099163</td>\n",
       "      <td>-0.027738</td>\n",
       "      <td>-0.084109</td>\n",
       "      <td>-0.150266</td>\n",
       "      <td>-0.041643</td>\n",
       "      <td>-0.059041</td>\n",
       "      <td>-0.095118</td>\n",
       "      <td>0.056699</td>\n",
       "    </tr>\n",
       "    <tr>\n",
       "      <th>5</th>\n",
       "      <td>0</td>\n",
       "      <td>0</td>\n",
       "      <td>0</td>\n",
       "      <td>0</td>\n",
       "      <td>1</td>\n",
       "      <td>0</td>\n",
       "      <td>0</td>\n",
       "      <td>0</td>\n",
       "      <td>0</td>\n",
       "      <td>0</td>\n",
       "      <td>...</td>\n",
       "      <td>0.099856</td>\n",
       "      <td>-0.034813</td>\n",
       "      <td>-0.167926</td>\n",
       "      <td>-0.017261</td>\n",
       "      <td>-0.190554</td>\n",
       "      <td>0.005475</td>\n",
       "      <td>-0.108558</td>\n",
       "      <td>-0.145421</td>\n",
       "      <td>-0.062994</td>\n",
       "      <td>-0.023387</td>\n",
       "    </tr>\n",
       "    <tr>\n",
       "      <th>...</th>\n",
       "      <td>...</td>\n",
       "      <td>...</td>\n",
       "      <td>...</td>\n",
       "      <td>...</td>\n",
       "      <td>...</td>\n",
       "      <td>...</td>\n",
       "      <td>...</td>\n",
       "      <td>...</td>\n",
       "      <td>...</td>\n",
       "      <td>...</td>\n",
       "      <td>...</td>\n",
       "      <td>...</td>\n",
       "      <td>...</td>\n",
       "      <td>...</td>\n",
       "      <td>...</td>\n",
       "      <td>...</td>\n",
       "      <td>...</td>\n",
       "      <td>...</td>\n",
       "      <td>...</td>\n",
       "      <td>...</td>\n",
       "      <td>...</td>\n",
       "    </tr>\n",
       "    <tr>\n",
       "      <th>131258</th>\n",
       "      <td>0</td>\n",
       "      <td>1</td>\n",
       "      <td>0</td>\n",
       "      <td>0</td>\n",
       "      <td>0</td>\n",
       "      <td>0</td>\n",
       "      <td>0</td>\n",
       "      <td>0</td>\n",
       "      <td>0</td>\n",
       "      <td>0</td>\n",
       "      <td>...</td>\n",
       "      <td>0.000000</td>\n",
       "      <td>0.000000</td>\n",
       "      <td>0.000000</td>\n",
       "      <td>0.000000</td>\n",
       "      <td>0.000000</td>\n",
       "      <td>0.000000</td>\n",
       "      <td>0.000000</td>\n",
       "      <td>0.000000</td>\n",
       "      <td>0.000000</td>\n",
       "      <td>0.000000</td>\n",
       "    </tr>\n",
       "    <tr>\n",
       "      <th>131259</th>\n",
       "      <td>0</td>\n",
       "      <td>0</td>\n",
       "      <td>0</td>\n",
       "      <td>0</td>\n",
       "      <td>0</td>\n",
       "      <td>0</td>\n",
       "      <td>0</td>\n",
       "      <td>0</td>\n",
       "      <td>0</td>\n",
       "      <td>0</td>\n",
       "      <td>...</td>\n",
       "      <td>0.000000</td>\n",
       "      <td>0.000000</td>\n",
       "      <td>0.000000</td>\n",
       "      <td>0.000000</td>\n",
       "      <td>0.000000</td>\n",
       "      <td>0.000000</td>\n",
       "      <td>0.000000</td>\n",
       "      <td>0.000000</td>\n",
       "      <td>0.000000</td>\n",
       "      <td>0.000000</td>\n",
       "    </tr>\n",
       "    <tr>\n",
       "      <th>131260</th>\n",
       "      <td>0</td>\n",
       "      <td>0</td>\n",
       "      <td>0</td>\n",
       "      <td>0</td>\n",
       "      <td>0</td>\n",
       "      <td>0</td>\n",
       "      <td>0</td>\n",
       "      <td>0</td>\n",
       "      <td>0</td>\n",
       "      <td>0</td>\n",
       "      <td>...</td>\n",
       "      <td>0.000000</td>\n",
       "      <td>0.000000</td>\n",
       "      <td>0.000000</td>\n",
       "      <td>0.000000</td>\n",
       "      <td>0.000000</td>\n",
       "      <td>0.000000</td>\n",
       "      <td>0.000000</td>\n",
       "      <td>0.000000</td>\n",
       "      <td>0.000000</td>\n",
       "      <td>0.000000</td>\n",
       "    </tr>\n",
       "    <tr>\n",
       "      <th>131261</th>\n",
       "      <td>0</td>\n",
       "      <td>0</td>\n",
       "      <td>0</td>\n",
       "      <td>0</td>\n",
       "      <td>0</td>\n",
       "      <td>0</td>\n",
       "      <td>0</td>\n",
       "      <td>0</td>\n",
       "      <td>0</td>\n",
       "      <td>0</td>\n",
       "      <td>...</td>\n",
       "      <td>0.000000</td>\n",
       "      <td>0.000000</td>\n",
       "      <td>0.000000</td>\n",
       "      <td>0.000000</td>\n",
       "      <td>0.000000</td>\n",
       "      <td>0.000000</td>\n",
       "      <td>0.000000</td>\n",
       "      <td>0.000000</td>\n",
       "      <td>0.000000</td>\n",
       "      <td>0.000000</td>\n",
       "    </tr>\n",
       "    <tr>\n",
       "      <th>131262</th>\n",
       "      <td>0</td>\n",
       "      <td>1</td>\n",
       "      <td>0</td>\n",
       "      <td>0</td>\n",
       "      <td>0</td>\n",
       "      <td>0</td>\n",
       "      <td>0</td>\n",
       "      <td>0</td>\n",
       "      <td>1</td>\n",
       "      <td>0</td>\n",
       "      <td>...</td>\n",
       "      <td>0.000000</td>\n",
       "      <td>0.000000</td>\n",
       "      <td>0.000000</td>\n",
       "      <td>0.000000</td>\n",
       "      <td>0.000000</td>\n",
       "      <td>0.000000</td>\n",
       "      <td>0.000000</td>\n",
       "      <td>0.000000</td>\n",
       "      <td>0.000000</td>\n",
       "      <td>0.000000</td>\n",
       "    </tr>\n",
       "  </tbody>\n",
       "</table>\n",
       "<p>131262 rows × 54 columns</p>\n",
       "</div>"
      ],
      "text/plain": [
       "        Action  Adventure  Animation  Children  Comedy  Crime  Documentary  \\\n",
       "1            0          1          1         1       1      0            0   \n",
       "2            0          1          0         1       0      0            0   \n",
       "3            0          0          0         0       1      0            0   \n",
       "4            0          0          0         0       1      0            0   \n",
       "5            0          0          0         0       1      0            0   \n",
       "...        ...        ...        ...       ...     ...    ...          ...   \n",
       "131258       0          1          0         0       0      0            0   \n",
       "131259       0          0          0         0       0      0            0   \n",
       "131260       0          0          0         0       0      0            0   \n",
       "131261       0          0          0         0       0      0            0   \n",
       "131262       0          1          0         0       0      0            0   \n",
       "\n",
       "        Drama  Fantasy  Film-Noir  ...        22        23        24  \\\n",
       "1           0        1          0  ...  0.378041 -0.041499 -0.165632   \n",
       "2           0        1          0  ...  0.219363  0.041798 -0.162652   \n",
       "3           0        0          0  ...  0.212934 -0.103764 -0.166946   \n",
       "4           1        0          0  ...  0.184004 -0.039083 -0.099163   \n",
       "5           0        0          0  ...  0.099856 -0.034813 -0.167926   \n",
       "...       ...      ...        ...  ...       ...       ...       ...   \n",
       "131258      0        0          0  ...  0.000000  0.000000  0.000000   \n",
       "131259      0        0          0  ...  0.000000  0.000000  0.000000   \n",
       "131260      0        0          0  ...  0.000000  0.000000  0.000000   \n",
       "131261      0        0          0  ...  0.000000  0.000000  0.000000   \n",
       "131262      0        1          0  ...  0.000000  0.000000  0.000000   \n",
       "\n",
       "              25        26        27        28        29        30        31  \n",
       "1      -0.164631 -0.193850 -0.144911 -0.067228 -0.226316 -0.118943  0.146792  \n",
       "2      -0.177201 -0.187337 -0.028217 -0.162851 -0.251472 -0.015372  0.020435  \n",
       "3      -0.089485 -0.139654  0.026715 -0.053008 -0.150483 -0.102074  0.048749  \n",
       "4      -0.027738 -0.084109 -0.150266 -0.041643 -0.059041 -0.095118  0.056699  \n",
       "5      -0.017261 -0.190554  0.005475 -0.108558 -0.145421 -0.062994 -0.023387  \n",
       "...          ...       ...       ...       ...       ...       ...       ...  \n",
       "131258  0.000000  0.000000  0.000000  0.000000  0.000000  0.000000  0.000000  \n",
       "131259  0.000000  0.000000  0.000000  0.000000  0.000000  0.000000  0.000000  \n",
       "131260  0.000000  0.000000  0.000000  0.000000  0.000000  0.000000  0.000000  \n",
       "131261  0.000000  0.000000  0.000000  0.000000  0.000000  0.000000  0.000000  \n",
       "131262  0.000000  0.000000  0.000000  0.000000  0.000000  0.000000  0.000000  \n",
       "\n",
       "[131262 rows x 54 columns]"
      ]
     },
     "execution_count": 45,
     "metadata": {},
     "output_type": "execute_result"
    }
   ],
   "source": [
    "movie_features"
   ]
  },
  {
   "cell_type": "markdown",
   "id": "d4c79b63",
   "metadata": {},
   "source": [
    "### Обработка movieId"
   ]
  },
  {
   "cell_type": "markdown",
   "id": "268174b6",
   "metadata": {},
   "source": [
    "Предобрабатывая данные о рейтингах, мы оставили лишь часть фильмов и перенумеровали их. Нужно учесть это и для признаков фильмов.\n",
    "\n",
    "Признаки мы получили для всех `movieId` от 1 до максимально возможного. Но в данных о рейтингах у нас были не все индексы, и мы перенумеровывали только их.\n",
    "\n",
    "- Сначала найдем те `movieId`, которых не хватало во время обработки рейтингов\n",
    "\n",
    "- Добавим эти индексы в конец `sorted_movies` - здесь у нас хранятся `movieId`, отсортированные в порядке убывания количества встречаний. Поскольку мы все равно возьмем лишь 1000 самых часто встречаемых, добавление в конец не повлияет на то, какие `movieId` будут отобраны. Но зато так мы сможем перенумеровать индексы таблицы с признаками."
   ]
  },
  {
   "cell_type": "code",
   "execution_count": 46,
   "id": "1c567eeb",
   "metadata": {},
   "outputs": [],
   "source": [
    "missing_movies = list(set(ind) - set(sorted_movies))\n",
    "to_reindex = np.append(sorted_movies, missing_movies)\n",
    "reindexed_movies = {movie:i for i, movie in enumerate(to_reindex)}\n",
    "movie_features.index = movie_features.index.map(reindexed_movies)"
   ]
  },
  {
   "cell_type": "markdown",
   "id": "53393838",
   "metadata": {},
   "source": [
    "Осталось отобрать 1000 самых часто втречаемых фильмов."
   ]
  },
  {
   "cell_type": "code",
   "execution_count": 47,
   "id": "81bcb9f0",
   "metadata": {},
   "outputs": [],
   "source": [
    "movie_features = movie_features.sort_index(axis=0).iloc[:1000]"
   ]
  },
  {
   "cell_type": "code",
   "execution_count": 48,
   "id": "e525e0c0",
   "metadata": {},
   "outputs": [
    {
     "data": {
      "text/html": [
       "<div>\n",
       "<style scoped>\n",
       "    .dataframe tbody tr th:only-of-type {\n",
       "        vertical-align: middle;\n",
       "    }\n",
       "\n",
       "    .dataframe tbody tr th {\n",
       "        vertical-align: top;\n",
       "    }\n",
       "\n",
       "    .dataframe thead th {\n",
       "        text-align: right;\n",
       "    }\n",
       "</style>\n",
       "<table border=\"1\" class=\"dataframe\">\n",
       "  <thead>\n",
       "    <tr style=\"text-align: right;\">\n",
       "      <th></th>\n",
       "      <th>Action</th>\n",
       "      <th>Adventure</th>\n",
       "      <th>Animation</th>\n",
       "      <th>Children</th>\n",
       "      <th>Comedy</th>\n",
       "      <th>Crime</th>\n",
       "      <th>Documentary</th>\n",
       "      <th>Drama</th>\n",
       "      <th>Fantasy</th>\n",
       "      <th>Film-Noir</th>\n",
       "      <th>...</th>\n",
       "      <th>22</th>\n",
       "      <th>23</th>\n",
       "      <th>24</th>\n",
       "      <th>25</th>\n",
       "      <th>26</th>\n",
       "      <th>27</th>\n",
       "      <th>28</th>\n",
       "      <th>29</th>\n",
       "      <th>30</th>\n",
       "      <th>31</th>\n",
       "    </tr>\n",
       "  </thead>\n",
       "  <tbody>\n",
       "    <tr>\n",
       "      <th>0</th>\n",
       "      <td>0</td>\n",
       "      <td>0</td>\n",
       "      <td>0</td>\n",
       "      <td>0</td>\n",
       "      <td>1</td>\n",
       "      <td>1</td>\n",
       "      <td>0</td>\n",
       "      <td>1</td>\n",
       "      <td>0</td>\n",
       "      <td>0</td>\n",
       "      <td>...</td>\n",
       "      <td>0.461430</td>\n",
       "      <td>-0.442967</td>\n",
       "      <td>-0.112871</td>\n",
       "      <td>-0.182435</td>\n",
       "      <td>-0.075205</td>\n",
       "      <td>-0.098101</td>\n",
       "      <td>-0.064770</td>\n",
       "      <td>-0.154940</td>\n",
       "      <td>-0.110693</td>\n",
       "      <td>0.137927</td>\n",
       "    </tr>\n",
       "    <tr>\n",
       "      <th>1</th>\n",
       "      <td>0</td>\n",
       "      <td>0</td>\n",
       "      <td>0</td>\n",
       "      <td>0</td>\n",
       "      <td>1</td>\n",
       "      <td>0</td>\n",
       "      <td>0</td>\n",
       "      <td>1</td>\n",
       "      <td>0</td>\n",
       "      <td>0</td>\n",
       "      <td>...</td>\n",
       "      <td>0.573309</td>\n",
       "      <td>-0.296778</td>\n",
       "      <td>0.031021</td>\n",
       "      <td>-0.253100</td>\n",
       "      <td>-0.315250</td>\n",
       "      <td>-0.224382</td>\n",
       "      <td>-0.029766</td>\n",
       "      <td>-0.206342</td>\n",
       "      <td>-0.039836</td>\n",
       "      <td>0.156650</td>\n",
       "    </tr>\n",
       "    <tr>\n",
       "      <th>2</th>\n",
       "      <td>0</td>\n",
       "      <td>0</td>\n",
       "      <td>0</td>\n",
       "      <td>0</td>\n",
       "      <td>0</td>\n",
       "      <td>1</td>\n",
       "      <td>0</td>\n",
       "      <td>1</td>\n",
       "      <td>0</td>\n",
       "      <td>0</td>\n",
       "      <td>...</td>\n",
       "      <td>0.576834</td>\n",
       "      <td>-0.358651</td>\n",
       "      <td>0.055019</td>\n",
       "      <td>-0.233320</td>\n",
       "      <td>-0.234182</td>\n",
       "      <td>-0.108255</td>\n",
       "      <td>0.014788</td>\n",
       "      <td>-0.184270</td>\n",
       "      <td>-0.016779</td>\n",
       "      <td>0.141563</td>\n",
       "    </tr>\n",
       "    <tr>\n",
       "      <th>3</th>\n",
       "      <td>0</td>\n",
       "      <td>0</td>\n",
       "      <td>0</td>\n",
       "      <td>0</td>\n",
       "      <td>0</td>\n",
       "      <td>1</td>\n",
       "      <td>0</td>\n",
       "      <td>0</td>\n",
       "      <td>0</td>\n",
       "      <td>0</td>\n",
       "      <td>...</td>\n",
       "      <td>0.506337</td>\n",
       "      <td>-0.355207</td>\n",
       "      <td>-0.001690</td>\n",
       "      <td>-0.132096</td>\n",
       "      <td>-0.120268</td>\n",
       "      <td>0.000329</td>\n",
       "      <td>0.000885</td>\n",
       "      <td>-0.065815</td>\n",
       "      <td>0.000498</td>\n",
       "      <td>0.146046</td>\n",
       "    </tr>\n",
       "    <tr>\n",
       "      <th>4</th>\n",
       "      <td>1</td>\n",
       "      <td>1</td>\n",
       "      <td>0</td>\n",
       "      <td>0</td>\n",
       "      <td>0</td>\n",
       "      <td>0</td>\n",
       "      <td>0</td>\n",
       "      <td>0</td>\n",
       "      <td>0</td>\n",
       "      <td>0</td>\n",
       "      <td>...</td>\n",
       "      <td>0.424172</td>\n",
       "      <td>-0.213215</td>\n",
       "      <td>-0.120499</td>\n",
       "      <td>-0.165570</td>\n",
       "      <td>-0.225660</td>\n",
       "      <td>-0.077882</td>\n",
       "      <td>-0.052508</td>\n",
       "      <td>-0.278858</td>\n",
       "      <td>0.075529</td>\n",
       "      <td>0.237754</td>\n",
       "    </tr>\n",
       "    <tr>\n",
       "      <th>...</th>\n",
       "      <td>...</td>\n",
       "      <td>...</td>\n",
       "      <td>...</td>\n",
       "      <td>...</td>\n",
       "      <td>...</td>\n",
       "      <td>...</td>\n",
       "      <td>...</td>\n",
       "      <td>...</td>\n",
       "      <td>...</td>\n",
       "      <td>...</td>\n",
       "      <td>...</td>\n",
       "      <td>...</td>\n",
       "      <td>...</td>\n",
       "      <td>...</td>\n",
       "      <td>...</td>\n",
       "      <td>...</td>\n",
       "      <td>...</td>\n",
       "      <td>...</td>\n",
       "      <td>...</td>\n",
       "      <td>...</td>\n",
       "      <td>...</td>\n",
       "    </tr>\n",
       "    <tr>\n",
       "      <th>995</th>\n",
       "      <td>1</td>\n",
       "      <td>0</td>\n",
       "      <td>0</td>\n",
       "      <td>0</td>\n",
       "      <td>0</td>\n",
       "      <td>1</td>\n",
       "      <td>0</td>\n",
       "      <td>1</td>\n",
       "      <td>0</td>\n",
       "      <td>0</td>\n",
       "      <td>...</td>\n",
       "      <td>0.338458</td>\n",
       "      <td>-0.169114</td>\n",
       "      <td>-0.021639</td>\n",
       "      <td>-0.214792</td>\n",
       "      <td>-0.066838</td>\n",
       "      <td>-0.032403</td>\n",
       "      <td>-0.070723</td>\n",
       "      <td>-0.116561</td>\n",
       "      <td>-0.154069</td>\n",
       "      <td>-0.074526</td>\n",
       "    </tr>\n",
       "    <tr>\n",
       "      <th>996</th>\n",
       "      <td>1</td>\n",
       "      <td>1</td>\n",
       "      <td>0</td>\n",
       "      <td>0</td>\n",
       "      <td>0</td>\n",
       "      <td>0</td>\n",
       "      <td>0</td>\n",
       "      <td>0</td>\n",
       "      <td>0</td>\n",
       "      <td>0</td>\n",
       "      <td>...</td>\n",
       "      <td>0.300453</td>\n",
       "      <td>-0.172802</td>\n",
       "      <td>-0.118012</td>\n",
       "      <td>-0.223630</td>\n",
       "      <td>-0.144923</td>\n",
       "      <td>-0.062521</td>\n",
       "      <td>0.006981</td>\n",
       "      <td>-0.137668</td>\n",
       "      <td>-0.062990</td>\n",
       "      <td>0.116311</td>\n",
       "    </tr>\n",
       "    <tr>\n",
       "      <th>997</th>\n",
       "      <td>0</td>\n",
       "      <td>0</td>\n",
       "      <td>0</td>\n",
       "      <td>0</td>\n",
       "      <td>1</td>\n",
       "      <td>0</td>\n",
       "      <td>0</td>\n",
       "      <td>0</td>\n",
       "      <td>0</td>\n",
       "      <td>0</td>\n",
       "      <td>...</td>\n",
       "      <td>0.300647</td>\n",
       "      <td>-0.130017</td>\n",
       "      <td>0.008896</td>\n",
       "      <td>-0.055241</td>\n",
       "      <td>-0.154558</td>\n",
       "      <td>-0.040650</td>\n",
       "      <td>0.006922</td>\n",
       "      <td>-0.047055</td>\n",
       "      <td>-0.103085</td>\n",
       "      <td>0.071231</td>\n",
       "    </tr>\n",
       "    <tr>\n",
       "      <th>998</th>\n",
       "      <td>0</td>\n",
       "      <td>0</td>\n",
       "      <td>0</td>\n",
       "      <td>0</td>\n",
       "      <td>1</td>\n",
       "      <td>1</td>\n",
       "      <td>0</td>\n",
       "      <td>0</td>\n",
       "      <td>0</td>\n",
       "      <td>0</td>\n",
       "      <td>...</td>\n",
       "      <td>0.321576</td>\n",
       "      <td>-0.221961</td>\n",
       "      <td>-0.030918</td>\n",
       "      <td>-0.119871</td>\n",
       "      <td>-0.172183</td>\n",
       "      <td>-0.011924</td>\n",
       "      <td>-0.030645</td>\n",
       "      <td>-0.142796</td>\n",
       "      <td>-0.068528</td>\n",
       "      <td>0.000469</td>\n",
       "    </tr>\n",
       "    <tr>\n",
       "      <th>999</th>\n",
       "      <td>0</td>\n",
       "      <td>0</td>\n",
       "      <td>0</td>\n",
       "      <td>0</td>\n",
       "      <td>0</td>\n",
       "      <td>0</td>\n",
       "      <td>0</td>\n",
       "      <td>0</td>\n",
       "      <td>0</td>\n",
       "      <td>0</td>\n",
       "      <td>...</td>\n",
       "      <td>0.316651</td>\n",
       "      <td>-0.101628</td>\n",
       "      <td>-0.081474</td>\n",
       "      <td>-0.193043</td>\n",
       "      <td>-0.195310</td>\n",
       "      <td>-0.085486</td>\n",
       "      <td>-0.050601</td>\n",
       "      <td>-0.029865</td>\n",
       "      <td>-0.048233</td>\n",
       "      <td>0.171951</td>\n",
       "    </tr>\n",
       "  </tbody>\n",
       "</table>\n",
       "<p>1000 rows × 54 columns</p>\n",
       "</div>"
      ],
      "text/plain": [
       "     Action  Adventure  Animation  Children  Comedy  Crime  Documentary  \\\n",
       "0         0          0          0         0       1      1            0   \n",
       "1         0          0          0         0       1      0            0   \n",
       "2         0          0          0         0       0      1            0   \n",
       "3         0          0          0         0       0      1            0   \n",
       "4         1          1          0         0       0      0            0   \n",
       "..      ...        ...        ...       ...     ...    ...          ...   \n",
       "995       1          0          0         0       0      1            0   \n",
       "996       1          1          0         0       0      0            0   \n",
       "997       0          0          0         0       1      0            0   \n",
       "998       0          0          0         0       1      1            0   \n",
       "999       0          0          0         0       0      0            0   \n",
       "\n",
       "     Drama  Fantasy  Film-Noir  ...        22        23        24        25  \\\n",
       "0        1        0          0  ...  0.461430 -0.442967 -0.112871 -0.182435   \n",
       "1        1        0          0  ...  0.573309 -0.296778  0.031021 -0.253100   \n",
       "2        1        0          0  ...  0.576834 -0.358651  0.055019 -0.233320   \n",
       "3        0        0          0  ...  0.506337 -0.355207 -0.001690 -0.132096   \n",
       "4        0        0          0  ...  0.424172 -0.213215 -0.120499 -0.165570   \n",
       "..     ...      ...        ...  ...       ...       ...       ...       ...   \n",
       "995      1        0          0  ...  0.338458 -0.169114 -0.021639 -0.214792   \n",
       "996      0        0          0  ...  0.300453 -0.172802 -0.118012 -0.223630   \n",
       "997      0        0          0  ...  0.300647 -0.130017  0.008896 -0.055241   \n",
       "998      0        0          0  ...  0.321576 -0.221961 -0.030918 -0.119871   \n",
       "999      0        0          0  ...  0.316651 -0.101628 -0.081474 -0.193043   \n",
       "\n",
       "           26        27        28        29        30        31  \n",
       "0   -0.075205 -0.098101 -0.064770 -0.154940 -0.110693  0.137927  \n",
       "1   -0.315250 -0.224382 -0.029766 -0.206342 -0.039836  0.156650  \n",
       "2   -0.234182 -0.108255  0.014788 -0.184270 -0.016779  0.141563  \n",
       "3   -0.120268  0.000329  0.000885 -0.065815  0.000498  0.146046  \n",
       "4   -0.225660 -0.077882 -0.052508 -0.278858  0.075529  0.237754  \n",
       "..        ...       ...       ...       ...       ...       ...  \n",
       "995 -0.066838 -0.032403 -0.070723 -0.116561 -0.154069 -0.074526  \n",
       "996 -0.144923 -0.062521  0.006981 -0.137668 -0.062990  0.116311  \n",
       "997 -0.154558 -0.040650  0.006922 -0.047055 -0.103085  0.071231  \n",
       "998 -0.172183 -0.011924 -0.030645 -0.142796 -0.068528  0.000469  \n",
       "999 -0.195310 -0.085486 -0.050601 -0.029865 -0.048233  0.171951  \n",
       "\n",
       "[1000 rows x 54 columns]"
      ]
     },
     "execution_count": 48,
     "metadata": {},
     "output_type": "execute_result"
    }
   ],
   "source": [
    "movie_features"
   ]
  },
  {
   "cell_type": "markdown",
   "id": "39ef55fb",
   "metadata": {},
   "source": [
    "### LightFM"
   ]
  },
  {
   "cell_type": "markdown",
   "id": "c6cf74e4",
   "metadata": {},
   "source": [
    "Сначала подготовим матрицу оценок размера (количество пользователей x количество фильмов)."
   ]
  },
  {
   "cell_type": "code",
   "execution_count": 49,
   "id": "a6d02b4d",
   "metadata": {},
   "outputs": [],
   "source": [
    "# мы строили обучающую выборку так, что в ней есть все фильмы и все зрители\n",
    "# значит из нее мы можем получить глобальные макимальные значения movieId и userId\n",
    "user_size = train.userId.max() + 1\n",
    "movie_size = train.movieId.max() + 1\n",
    "\n",
    "ratings = train.rating\n",
    "r_sparse = sparse.csr_matrix(\n",
    "    (ratings, (train.userId, train.movieId)),\n",
    "    shape=(user_size, movie_size)\n",
    ")"
   ]
  },
  {
   "cell_type": "markdown",
   "id": "bfa885a9",
   "metadata": {},
   "source": [
    "Теперь получим признаки фильмов. Подготовим датасет."
   ]
  },
  {
   "cell_type": "code",
   "execution_count": 50,
   "id": "da6b46de",
   "metadata": {},
   "outputs": [],
   "source": [
    "dataset = Dataset()"
   ]
  },
  {
   "cell_type": "markdown",
   "id": "dbf5bbd8",
   "metadata": {},
   "source": [
    "Получим значения признаков в формате `название признака:значение`:"
   ]
  },
  {
   "cell_type": "code",
   "execution_count": 51,
   "id": "ef4540f3",
   "metadata": {},
   "outputs": [
    {
     "data": {
      "text/plain": [
       "['Action:0', 'Action:1']"
      ]
     },
     "execution_count": 51,
     "metadata": {},
     "output_type": "execute_result"
    }
   ],
   "source": [
    "features = []\n",
    "\n",
    "for column in movie_features.columns:\n",
    "    feature_values = movie_features[column].unique()\n",
    "    features += list(map(lambda v: str(column) + ':' + str(v), feature_values))\n",
    "features[:2]"
   ]
  },
  {
   "cell_type": "markdown",
   "id": "d4757a70",
   "metadata": {},
   "source": [
    "Теперь мы можем построить датасет на наших данных:"
   ]
  },
  {
   "cell_type": "code",
   "execution_count": 52,
   "id": "0cfdaf1d",
   "metadata": {},
   "outputs": [],
   "source": [
    "dataset.fit(\n",
    "        users=np.arange(user_size),\n",
    "        items=np.arange(movie_size),\n",
    "        item_features=features\n",
    ")"
   ]
  },
  {
   "cell_type": "markdown",
   "id": "d6c00d78",
   "metadata": {},
   "source": [
    "Чтобы получить признаки фильмов из датасета, нам нужно для каждого фильма получить информацию о значениях признаков в формате: `(индекс фильма, [название признака:значение])`"
   ]
  },
  {
   "cell_type": "code",
   "execution_count": 53,
   "id": "8c3069c6",
   "metadata": {},
   "outputs": [],
   "source": [
    "def get_features_for_movie(feature_values):\n",
    "    '''\n",
    "    For specific movie, get feature values of format (movieId:['feature_name:value'])\n",
    "    \n",
    "    feature_values: iterable\n",
    "        sequnce of feature values of specific movie,\n",
    "        i-th value should correspond to i-th feature in feature-DataFrame\n",
    "    '''\n",
    "    features = []\n",
    "    columns = movie_features.columns\n",
    "    \n",
    "    for i in range(len(feature_values)):\n",
    "        features += [str(columns[i]) + ':' + str(feature_values[i])]\n",
    "    return features\n",
    "\n",
    "def get_features_for_all():\n",
    "    '''\n",
    "    For all considered movies, get feature values of format (movieId:['feature_name:value'])\n",
    "    '''\n",
    "    res = []\n",
    "    movie_inds = np.arange(movie_size)\n",
    "    for ind in movie_inds:\n",
    "        res += [ (ind, get_features_for_movie(movie_features.iloc[ind].values)) ]\n",
    "    return res"
   ]
  },
  {
   "cell_type": "code",
   "execution_count": 54,
   "id": "dd9db77d",
   "metadata": {},
   "outputs": [],
   "source": [
    "item_tuples = get_features_for_all()"
   ]
  },
  {
   "cell_type": "markdown",
   "id": "ef97cb19",
   "metadata": {},
   "source": [
    "Теперь получим признаки, которые будем подавать на вход `LightFm`."
   ]
  },
  {
   "cell_type": "code",
   "execution_count": 55,
   "id": "0d146237",
   "metadata": {},
   "outputs": [],
   "source": [
    "item_features = dataset.build_item_features(item_tuples, normalize= False)"
   ]
  },
  {
   "cell_type": "markdown",
   "id": "c7c84080",
   "metadata": {},
   "source": [
    "**Модель**"
   ]
  },
  {
   "cell_type": "markdown",
   "id": "df01d32c",
   "metadata": {},
   "source": [
    "Сначала обучим модель, просто чтобы проверить, что она учится. Для этого после каждой итерации обучения будем смотреть на значение метрики nDCG@k."
   ]
  },
  {
   "cell_type": "code",
   "execution_count": 56,
   "id": "5b6cc78a",
   "metadata": {},
   "outputs": [],
   "source": [
    "def compute_metric_LightFM(model, data, k):\n",
    "    '''\n",
    "    Compute mean nDCG@k for LightFM model\n",
    "    \n",
    "    model: instance of LightFM class\n",
    "        model to obtain predictions with\n",
    "    data: pd.DataFrame\n",
    "        data to compute metrics for,\n",
    "        should contain columns 'userId', 'movieId', 'rating',\n",
    "        'userId' and 'movieId' should start with 0\n",
    "    k: int\n",
    "        k parameter of nDCG@k metric\n",
    "    '''\n",
    "    true_scores = data.pivot_table(index='userId', columns='movieId', values='rating', fill_value=0.)\n",
    "    u = true_scores.index.values\n",
    "    m = true_scores.columns.values\n",
    "    \n",
    "    n_users = u.shape[0]\n",
    "    n_movies = m.shape[0]\n",
    "    u = np.repeat(u, n_movies)\n",
    "    m = np.tile(m, n_users)\n",
    "    \n",
    "    predicts = model.predict(\n",
    "        user_ids=u, \n",
    "        item_ids=m,\n",
    "        item_features=item_features\n",
    "    ).reshape(n_users, n_movies)\n",
    "    \n",
    "    return mean_ndcg(predicts, true_scores.values, k)"
   ]
  },
  {
   "cell_type": "code",
   "execution_count": 57,
   "id": "fbdc8e58",
   "metadata": {},
   "outputs": [],
   "source": [
    "model = LightFM(\n",
    "    no_components=10,      # hidden size\n",
    "    loss='warp',           # loss, suitable for non-negative ratings\n",
    "    learning_rate=1e-3,\n",
    "    random_state=42\n",
    ")"
   ]
  },
  {
   "cell_type": "code",
   "execution_count": 58,
   "id": "9631de8b",
   "metadata": {},
   "outputs": [
    {
     "name": "stderr",
     "output_type": "stream",
     "text": [
      "Training: 100%|█████████████████████████████████| 10/10 [02:04<00:00, 12.42s/it]\n"
     ]
    }
   ],
   "source": [
    "EPOCHS = 10\n",
    "\n",
    "k_range = [5, 10, 100]\n",
    "metric_history = {}\n",
    "for k in k_range:\n",
    "    metric_history[k] = []\n",
    "\n",
    "for _ in tqdm(range(EPOCHS), desc='Training', ncols=80):\n",
    "    model.fit_partial(r_sparse,\n",
    "              item_features=item_features,\n",
    "              epochs=1,\n",
    "              verbose=False\n",
    "    )\n",
    "    for k in k_range:\n",
    "        metric_history[k].append(\n",
    "            compute_metric_LightFM(model, train, k)\n",
    "        )"
   ]
  },
  {
   "cell_type": "code",
   "execution_count": 59,
   "id": "2f316794",
   "metadata": {},
   "outputs": [
    {
     "data": {
      "image/png": "[encoded data removed]",
      "text/plain": [
       "<Figure size 432x288 with 1 Axes>"
      ]
     },
     "metadata": {
      "image/png": {
       "height": 279,
       "width": 389
      }
     },
     "output_type": "display_data"
    }
   ],
   "source": [
    "plt.figsize=(8, 5)\n",
    "\n",
    "for k in k_range:\n",
    "    plt.plot(np.arange(EPOCHS) + 1, metric_history[k], label=f'k = {k}')\n",
    "plt.title('Значения метрики во время обучения', fontsize=16)\n",
    "plt.ylabel('Mean nDCG@k')\n",
    "plt.xlabel('Итерация LightFM')\n",
    "plt.legend(title='Параметр k метрики nDCG@k')\n",
    "\n",
    "plt.show()"
   ]
  },
  {
   "cell_type": "markdown",
   "id": "371d90f5",
   "metadata": {},
   "source": [
    "**Подбор гиперпараметров**\n",
    "\n",
    "Подберем гиперпараметры с помощью валидации на отложенной выборке."
   ]
  },
  {
   "cell_type": "code",
   "execution_count": 60,
   "id": "d3b184a7",
   "metadata": {},
   "outputs": [
    {
     "name": "stderr",
     "output_type": "stream",
     "text": [
      "Validating: 100%|█████████████████████████████| 5/5 [5:13:07<00:00, 3757.58s/it]\n"
     ]
    }
   ],
   "source": [
    "hs_range = [5, 10, 20, 100]\n",
    "max_iter_range = [5, 10, 20, 30]\n",
    "lr_range = np.logspace(-5, -1, num=5)\n",
    "\n",
    "best_params = {\n",
    "    'hidden_size': 0,\n",
    "    'max_iter': 0,\n",
    "    'lr': 0.\n",
    "}\n",
    "best_metric = 0\n",
    "\n",
    "for lr in tqdm(lr_range, desc='Validating', ncols=80):\n",
    "    for max_iter in max_iter_range:\n",
    "        for hidden_size in hs_range:\n",
    "            model = LightFM(\n",
    "                no_components=hidden_size,\n",
    "                loss='warp',\n",
    "                learning_rate=lr,\n",
    "                random_state=42\n",
    "            )\n",
    "            model.fit(r_sparse,\n",
    "                      item_features=item_features,\n",
    "                      epochs=max_iter,\n",
    "                      verbose=False\n",
    "            )\n",
    "            metric = compute_metric_LightFM(model, val, 10)\n",
    "            if metric > best_metric:\n",
    "                best_metric = metric\n",
    "                best_params['hidden_size'] = hidden_size\n",
    "                best_params['max_iter'] = max_iter\n",
    "                best_params['lr'] = lr"
   ]
  },
  {
   "cell_type": "code",
   "execution_count": 61,
   "id": "6d486b68",
   "metadata": {},
   "outputs": [
    {
     "name": "stdout",
     "output_type": "stream",
     "text": [
      "{'hidden_size': 20, 'max_iter': 5, 'lr': 1e-05}\n"
     ]
    }
   ],
   "source": [
    "print(best_params)"
   ]
  },
  {
   "cell_type": "code",
   "execution_count": 62,
   "id": "e438dcbd",
   "metadata": {},
   "outputs": [
    {
     "data": {
      "text/plain": [
       "0.09465977299574804"
      ]
     },
     "execution_count": 62,
     "metadata": {},
     "output_type": "execute_result"
    }
   ],
   "source": [
    "best_metric"
   ]
  },
  {
   "cell_type": "code",
   "execution_count": 63,
   "id": "a7f4e329",
   "metadata": {},
   "outputs": [],
   "source": [
    "# als: 0.08826999266279101"
   ]
  },
  {
   "cell_type": "code",
   "execution_count": 64,
   "id": "698598eb",
   "metadata": {},
   "outputs": [],
   "source": [
    "# чтобы не запускать подбор\n",
    "\n",
    "# best_metric = {'hidden_size': 20, 'max_iter': 5, 'lr': 1e-05}"
   ]
  },
  {
   "cell_type": "code",
   "execution_count": 65,
   "id": "01413cb7",
   "metadata": {},
   "outputs": [],
   "source": [
    "best_lightfm = LightFM(\n",
    "    no_components=best_params['hidden_size'],\n",
    "    loss='warp',\n",
    "    learning_rate=best_params['lr'],\n",
    "    random_state=42\n",
    ")\n",
    "best_epochs = best_params['max_iter']"
   ]
  },
  {
   "cell_type": "markdown",
   "id": "461396fb",
   "metadata": {},
   "source": [
    "## Сравнение моделей"
   ]
  },
  {
   "cell_type": "markdown",
   "id": "3236810c",
   "metadata": {},
   "source": [
    "Сравним лучшие модели обоих подходов, посмотрев на их качество на тестовой выборке."
   ]
  },
  {
   "cell_type": "code",
   "execution_count": 66,
   "id": "ef33c47a",
   "metadata": {},
   "outputs": [],
   "source": [
    "best_als.fit(train)\n",
    "als_metric = compute_metric_ALS(best_als, test, 10)"
   ]
  },
  {
   "cell_type": "code",
   "execution_count": 67,
   "id": "974e6ecf",
   "metadata": {},
   "outputs": [],
   "source": [
    "best_lightfm.fit(r_sparse, item_features=item_features, epochs=best_epochs, verbose=False)\n",
    "lightfm_metric = compute_metric_LightFM(best_lightfm, test, 10)"
   ]
  },
  {
   "cell_type": "code",
   "execution_count": 68,
   "id": "1061c7d7",
   "metadata": {},
   "outputs": [
    {
     "name": "stdout",
     "output_type": "stream",
     "text": [
      "Качество 'ALS' на тестовой выборке: 0.08705106206610179\n",
      "Качество LightFM на тестовой выборке: 0.08989824468661696\n"
     ]
    }
   ],
   "source": [
    "print(f'Качество \\'ALS\\' на тестовой выборке: {als_metric}\\nКачество LightFM на тестовой выборке: {lightfm_metric}')"
   ]
  },
  {
   "cell_type": "markdown",
   "id": "9cebe57a",
   "metadata": {},
   "source": [
    "## Выводы"
   ]
  },
  {
   "cell_type": "markdown",
   "id": "8a7bd4dc",
   "metadata": {},
   "source": [
    "Видим, что в итоге с гибридным подходом получилось добиться лучшего качества на валидационной и тестовой выборках, чем с коллаборативным. Но разница довольно мала (около 0.006 и 0.003 соответственно в терминах усредненной $nDCG@k$), при этом `LightFM` обучается гораздо дольше, чем модель со скрытыми признаками и `ALS` оптимизацией (это особенно заметно, если сравнить время, ушедшее на подбор гиперпараметров).\n",
    "\n",
    "Таким образом, у обоих подходов есть свои плюсы:\n",
    "\n",
    "- коллаборативный + контентный подход позволяет добиться лучшего качества, так как модель использует всю имеющуюся информацию\n",
    "\n",
    "- коллаборативный подход занимает гораздо меньше времени и уступает гибридному подходу сравнительно не сильно\n",
    "\n",
    "Если имеющиеся вычислительные ресурсы позволяют производить обучение `LightFM` быстрее (например, с помощью параллельности), то это лучшая модель. Она использует все данные, и довольно гибкая - можно контролировать, какие данные о фильмах и в каком виде мы хотим подать модели при обучении."
   ]
  }
 ],
 "metadata": {
  "kernelspec": {
   "display_name": "Python 3 (ipykernel)",
   "language": "python",
   "name": "python3"
  },
  "language_info": {
   "codemirror_mode": {
    "name": "ipython",
    "version": 3
   },
   "file_extension": ".py",
   "mimetype": "text/x-python",
   "name": "python",
   "nbconvert_exporter": "python",
   "pygments_lexer": "ipython3",
   "version": "3.9.1"
  }
 },
 "nbformat": 4,
 "nbformat_minor": 5
}
